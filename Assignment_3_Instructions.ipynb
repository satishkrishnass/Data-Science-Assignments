{
  "nbformat": 4,
  "nbformat_minor": 0,
  "metadata": {
    "colab": {
      "name": "Assignment_3_Instructions.ipynb",
      "provenance": [],
      "collapsed_sections": []
    },
    "kernelspec": {
      "display_name": "Python 3",
      "language": "python",
      "name": "python3"
    },
    "language_info": {
      "codemirror_mode": {
        "name": "ipython",
        "version": 3
      },
      "file_extension": ".py",
      "mimetype": "text/x-python",
      "name": "python",
      "nbconvert_exporter": "python",
      "pygments_lexer": "ipython3",
      "version": "3.7.1"
    }
  },
  "cells": [
    {
      "cell_type": "markdown",
      "metadata": {
        "id": "h9464I-uxLiw"
      },
      "source": [
        "# Assignment"
      ]
    },
    {
      "cell_type": "markdown",
      "metadata": {
        "id": "IvLvmewlxLix"
      },
      "source": [
        "<font face='georgia'>\n",
        "    \n",
        "   <h4><strong>What does tf-idf mean?</strong></h4>\n",
        "\n",
        "   <p>    \n",
        "Tf-idf stands for <em>term frequency-inverse document frequency</em>, and the tf-idf weight is a weight often used in information retrieval and text mining. This weight is a statistical measure used to evaluate how important a word is to a document in a collection or corpus. The importance increases proportionally to the number of times a word appears in the document but is offset by the frequency of the word in the corpus. Variations of the tf-idf weighting scheme are often used by search engines as a central tool in scoring and ranking a document's relevance given a user query.\n",
        "</p>\n",
        "    \n",
        "   <p>\n",
        "One of the simplest ranking functions is computed by summing the tf-idf for each query term; many more sophisticated ranking functions are variants of this simple model.\n",
        "</p>\n",
        "    \n",
        "   <p>\n",
        "Tf-idf can be successfully used for stop-words filtering in various subject fields including text summarization and classification.\n",
        "</p>\n",
        "    \n",
        "</font>"
      ]
    },
    {
      "cell_type": "markdown",
      "metadata": {
        "id": "4XLaGFUMxLiy"
      },
      "source": [
        "<font face='georgia'>\n",
        "    <h4><strong>How to Compute:</strong></h4>\n",
        "\n",
        "Typically, the tf-idf weight is composed by two terms: the first computes the normalized Term Frequency (TF), aka. the number of times a word appears in a document, divided by the total number of words in that document; the second term is the Inverse Document Frequency (IDF), computed as the logarithm of the number of the documents in the corpus divided by the number of documents where the specific term appears.\n",
        "\n",
        " <ul>\n",
        "    <li>\n",
        "<strong>TF:</strong> Term Frequency, which measures how frequently a term occurs in a document. Since every document is different in length, it is possible that a term would appear much more times in long documents than shorter ones. Thus, the term frequency is often divided by the document length (aka. the total number of terms in the document) as a way of normalization: <br>\n",
        "\n",
        "$TF(t) = \\frac{\\text{Number of times term t appears in a document}}{\\text{Total number of terms in the document}}.$\n",
        "</li>\n",
        "<li>\n",
        "<strong>IDF:</strong> Inverse Document Frequency, which measures how important a term is. While computing TF, all terms are considered equally important. However it is known that certain terms, such as \"is\", \"of\", and \"that\", may appear a lot of times but have little importance. Thus we need to weigh down the frequent terms while scale up the rare ones, by computing the following: <br>\n",
        "\n",
        "$IDF(t) = \\log_{e}\\frac{\\text{Total  number of documents}} {\\text{Number of documents with term t in it}}.$\n",
        "for numerical stabiltiy we will be changing this formula little bit\n",
        "$IDF(t) = \\log_{e}\\frac{\\text{Total  number of documents}} {\\text{Number of documents with term t in it}+1}.$\n",
        "</li>\n",
        "</ul>\n",
        "\n",
        "<br>\n",
        "<h4><strong>Example</strong></h4>\n",
        "<p>\n",
        "\n",
        "Consider a document containing 100 words wherein the word cat appears 3 times. The term frequency (i.e., tf) for cat is then (3 / 100) = 0.03. Now, assume we have 10 million documents and the word cat appears in one thousand of these. Then, the inverse document frequency (i.e., idf) is calculated as log(10,000,000 / 1,000) = 4. Thus, the Tf-idf weight is the product of these quantities: 0.03 * 4 = 0.12.\n",
        "</p>\n",
        "</font>"
      ]
    },
    {
      "cell_type": "markdown",
      "metadata": {
        "id": "dg2ooa4DxLiz"
      },
      "source": [
        "## Task-1"
      ]
    },
    {
      "cell_type": "markdown",
      "metadata": {
        "id": "TAcTjhO8xLiz"
      },
      "source": [
        "<font face='georgia'>\n",
        "    <h4><strong>1. Build a TFIDF Vectorizer & compare its results with Sklearn:</strong></h4>\n",
        "\n",
        "<ul>\n",
        "    <li> As a part of this task you will be implementing TFIDF vectorizer on a collection of text documents.</li>\n",
        "    <br>\n",
        "    <li> You should compare the results of your own implementation of TFIDF vectorizer with that of sklearns implemenation TFIDF vectorizer.</li>\n",
        "    <br>\n",
        "    <li> Sklearn does few more tweaks in the implementation of its version of TFIDF vectorizer, so to replicate the exact results you would need to add following things to your custom implementation of tfidf vectorizer:\n",
        "       <ol>\n",
        "        <li> Sklearn has its vocabulary generated from idf sroted in alphabetical order</li>\n",
        "        <li> Sklearn formula of idf is different from the standard textbook formula. Here the constant <strong>\"1\"</strong> is added to the numerator and denominator of the idf as if an extra document was seen containing every term in the collection exactly once, which prevents zero divisions.\n",
        "            \n",
        " $IDF(t) = 1+\\log_{e}\\frac{1\\text{ }+\\text{ Total  number of documents in collection}} {1+\\text{Number of documents with term t in it}}.$\n",
        "        </li>\n",
        "        <li> Sklearn applies L2-normalization on its output matrix.</li>\n",
        "        <li> The final output of sklearn tfidf vectorizer is a sparse matrix.</li>\n",
        "    </ol>\n",
        "    <br>\n",
        "    <li>Steps to approach this task:\n",
        "    <ol>\n",
        "        <li> You would have to write both fit and transform methods for your custom implementation of tfidf vectorizer.</li>\n",
        "        <li> Print out the alphabetically sorted voacb after you fit your data and check if its the same as that of the feature names from sklearn tfidf vectorizer. </li>\n",
        "        <li> Print out the idf values from your implementation and check if its the same as that of sklearns tfidf vectorizer idf values. </li>\n",
        "        <li> Once you get your voacb and idf values to be same as that of sklearns implementation of tfidf vectorizer, proceed to the below steps. </li>\n",
        "        <li> Make sure the output of your implementation is a sparse matrix. Before generating the final output, you need to normalize your sparse matrix using L2 normalization. You can refer to this link https://scikit-learn.org/stable/modules/generated/sklearn.preprocessing.normalize.html </li>\n",
        "        <li> After completing the above steps, print the output of your custom implementation and compare it with sklearns implementation of tfidf vectorizer.</li>\n",
        "        <li> To check the output of a single document in your collection of documents,  you can convert the sparse matrix related only to that document into dense matrix and print it.</li>\n",
        "        </ol>\n",
        "    </li>\n",
        "    <br>\n",
        "   </ul>\n",
        "\n",
        "  <p> <font color=\"#e60000\"><strong>Note-1: </strong></font> All the necessary outputs of sklearns tfidf vectorizer have been provided as reference in this notebook, you can compare your outputs as mentioned in the above steps, with these outputs.<br>\n",
        "   <font color=\"#e60000\"><strong>Note-2: </strong></font> The output of your custom implementation and that of sklearns implementation would match only with the collection of document strings provided to you as reference in this notebook. It would not match for strings that contain capital letters or punctuations, etc, because sklearn version of tfidf vectorizer deals with such strings in a different way. To know further details about how sklearn tfidf vectorizer works with such string, you can always refer to its official documentation.<br>\n",
        "   <font color=\"#e60000\"><strong>Note-3: </strong></font> During this task, it would be helpful for you to debug the code you write with print statements wherever necessary. But when you are finally submitting the assignment, make sure your code is readable and try not to print things which are not part of this task.\n",
        "    </p>"
      ]
    },
    {
      "cell_type": "markdown",
      "metadata": {
        "id": "OnV82tg1xLi0"
      },
      "source": [
        "### Corpus"
      ]
    },
    {
      "cell_type": "code",
      "metadata": {
        "id": "bUsYm9wjxLi1"
      },
      "source": [
        "## SkLearn# Collection of string documents\n",
        "\n",
        "corpus = [\n",
        "     'this is the first document',\n",
        "     'this document is the second document',\n",
        "     'and this is the third one',\n",
        "     'is this the first document',\n",
        "]"
      ],
      "execution_count": null,
      "outputs": []
    },
    {
      "cell_type": "markdown",
      "metadata": {
        "id": "eLwmFZfKxLi4"
      },
      "source": [
        "### SkLearn Implementation"
      ]
    },
    {
      "cell_type": "code",
      "metadata": {
        "id": "Np4dfQOkxLi4"
      },
      "source": [
        "from sklearn.feature_extraction.text import TfidfVectorizer\n",
        "vectorizer = TfidfVectorizer()\n",
        "vectorizer.fit(corpus)\n",
        "skl_output = vectorizer.transform(corpus)"
      ],
      "execution_count": null,
      "outputs": []
    },
    {
      "cell_type": "code",
      "metadata": {
        "id": "-7Om8YpYxLi6",
        "colab": {
          "base_uri": "https://localhost:8080/"
        },
        "outputId": "a4ab07a9-4bb6-4667-8719-740d4d9a220d"
      },
      "source": [
        "# sklearn feature names, they are sorted in alphabetic order by default.\n",
        "\n",
        "print(vectorizer.get_feature_names())"
      ],
      "execution_count": null,
      "outputs": [
        {
          "output_type": "stream",
          "text": [
            "['and', 'document', 'first', 'is', 'one', 'second', 'the', 'third', 'this']\n"
          ],
          "name": "stdout"
        }
      ]
    },
    {
      "cell_type": "code",
      "metadata": {
        "id": "dTKplK96xLi-",
        "colab": {
          "base_uri": "https://localhost:8080/"
        },
        "outputId": "c4a222bc-7c94-4967-8231-746911c91237"
      },
      "source": [
        "# Here we will print the sklearn tfidf vectorizer idf values after applying the fit method\n",
        "# After using the fit function on the corpus the vocab has 9 words in it, and each has its idf value.\n",
        "\n",
        "print(vectorizer.idf_)"
      ],
      "execution_count": null,
      "outputs": [
        {
          "output_type": "stream",
          "text": [
            "[1.91629073 1.22314355 1.51082562 1.         1.91629073 1.91629073\n",
            " 1.         1.91629073 1.        ]\n"
          ],
          "name": "stdout"
        }
      ]
    },
    {
      "cell_type": "code",
      "metadata": {
        "id": "-CTiWHygxLjA",
        "colab": {
          "base_uri": "https://localhost:8080/"
        },
        "outputId": "468f3d91-fc22-41ca-9315-2bf8d2a66c48"
      },
      "source": [
        "# shape of sklearn tfidf vectorizer output after applying transform method.\n",
        "skl_output.shape"
      ],
      "execution_count": null,
      "outputs": [
        {
          "output_type": "execute_result",
          "data": {
            "text/plain": [
              "(4, 9)"
            ]
          },
          "metadata": {
            "tags": []
          },
          "execution_count": 5
        }
      ]
    },
    {
      "cell_type": "code",
      "metadata": {
        "id": "bDKEpbA-xLjD",
        "colab": {
          "base_uri": "https://localhost:8080/"
        },
        "outputId": "92823e37-2f44-48f4-a233-a1feb2d4c902"
      },
      "source": [
        "# sklearn tfidf values for first line of the above corpus.\n",
        "# Here the output is a sparse matrix\n",
        "\n",
        "print(type(skl_output[0]))"
      ],
      "execution_count": null,
      "outputs": [
        {
          "output_type": "stream",
          "text": [
            "<class 'scipy.sparse.csr.csr_matrix'>\n"
          ],
          "name": "stdout"
        }
      ]
    },
    {
      "cell_type": "code",
      "metadata": {
        "id": "vF232WnsvZtM",
        "colab": {
          "base_uri": "https://localhost:8080/"
        },
        "outputId": "aa9b2741-12c5-43fb-d5e8-01f9cbb0092c"
      },
      "source": [
        "type(skl_output)"
      ],
      "execution_count": null,
      "outputs": [
        {
          "output_type": "execute_result",
          "data": {
            "text/plain": [
              "scipy.sparse.csr.csr_matrix"
            ]
          },
          "metadata": {
            "tags": []
          },
          "execution_count": 7
        }
      ]
    },
    {
      "cell_type": "code",
      "metadata": {
        "id": "3QWo34hexLjF",
        "colab": {
          "base_uri": "https://localhost:8080/"
        },
        "outputId": "c3e6c942-5c1e-4f34-f1e6-0e7ea44fe941"
      },
      "source": [
        "# sklearn tfidf values for first line of the above corpus.\n",
        "# To understand the output better, here we are converting the sparse output matrix to dense matrix and printing it.\n",
        "# Notice that this output is normalized using L2 normalization. sklearn does this by default.\n",
        "\n",
        "print(skl_output[0])"
      ],
      "execution_count": null,
      "outputs": [
        {
          "output_type": "stream",
          "text": [
            "  (0, 8)\t0.38408524091481483\n",
            "  (0, 6)\t0.38408524091481483\n",
            "  (0, 3)\t0.38408524091481483\n",
            "  (0, 2)\t0.5802858236844359\n",
            "  (0, 1)\t0.46979138557992045\n"
          ],
          "name": "stdout"
        }
      ]
    },
    {
      "cell_type": "markdown",
      "metadata": {
        "id": "qfIwx5LzxLjI"
      },
      "source": [
        "### Your custom implementation"
      ]
    },
    {
      "cell_type": "code",
      "metadata": {
        "id": "HjuCcJwXxLjJ"
      },
      "source": [
        "# Write your code here.\n",
        "# Make sure its well documented and readble with appropriate comments.\n",
        "# Compare your results with the above sklearn tfidf vectorizer\n",
        "# You are not supposed to use any other library apart from the ones given below\n",
        "\n",
        "from collections import Counter\n",
        "from tqdm import tqdm\n",
        "from scipy.sparse import csr_matrix\n",
        "import math\n",
        "import operator\n",
        "from sklearn.preprocessing import normalize\n",
        "import numpy as np"
      ],
      "execution_count": null,
      "outputs": []
    },
    {
      "cell_type": "code",
      "metadata": {
        "id": "rK_USBdjLVoM"
      },
      "source": [
        "# function to calculate inverse document frquency ( which tells importance of words)\n",
        "\n",
        "def idf(corpus,vocab):\n",
        "  No_of_documents = len(corpus)                                       #  total number of documents in a corpus\n",
        "\n",
        "  def isWordPresentInDocument(document,word):                         # inner function to find out whether the word is present in a perticular document or not?\n",
        "    words = document.split(\" \")\n",
        "    if word not in words:\n",
        "      return False\n",
        "    else:\n",
        "      return True\n",
        "  \n",
        "  counter = {}                                                        # to store, in how many documents each word is present\n",
        "  for word in vocab:\n",
        "    count =0\n",
        "    for document in corpus:\n",
        "      status = isWordPresentInDocument(document,word)\n",
        "      if (status==True):\n",
        "        count=count+1\n",
        "    counter[word]=count\n",
        "\n",
        "  idf = {}                                                             # to store vocabulary with respective idf values.\n",
        "  for word in counter.keys():\n",
        "    idf[word] = (1+math.log((1+No_of_documents)/(1+counter[word])))\n",
        "\n",
        "  return idf"
      ],
      "execution_count": null,
      "outputs": []
    },
    {
      "cell_type": "code",
      "metadata": {
        "id": "b79O1o28B2ym"
      },
      "source": [
        "# fit method which returns dictionary of words as keys and values as their idf_values.\n",
        "\n",
        "def fit(corpus):\n",
        "  unique_words = set()                                  # to keep unique words\n",
        "  if isinstance(corpus,(list,)):                        # to check corpus is list type or not.\n",
        "    for document in corpus:                             # for each document in the corpus.\n",
        "      for word in document.split(\" \"):                  # for each word in the review. split method converts a string into list of words\n",
        "        if len(word)<2:                                 # if eliminate words which are having length == 1 ,\n",
        "          continue\n",
        "        unique_words.add(word)\n",
        "    unique_words = sorted(list(unique_words))           # sorted order of unique words\n",
        "    vocab = idf(corpus,unique_words)                           # calling idf function to store vocabulary w.r.t their idf values.\n",
        "    return vocab\n",
        "  else:\n",
        "    print('pass list ')\n"
      ],
      "execution_count": null,
      "outputs": []
    },
    {
      "cell_type": "code",
      "metadata": {
        "id": "rbj_jehi_avQ"
      },
      "source": [
        "idf_vocab = fit(corpus)"
      ],
      "execution_count": null,
      "outputs": []
    },
    {
      "cell_type": "code",
      "metadata": {
        "colab": {
          "base_uri": "https://localhost:8080/"
        },
        "id": "loryBU1Q_dkA",
        "outputId": "15509921-1b12-4f01-91c1-6589765053d9"
      },
      "source": [
        "print(idf_vocab.keys())\n",
        "print(vectorizer.get_feature_names()) # sklearn values\n"
      ],
      "execution_count": null,
      "outputs": [
        {
          "output_type": "stream",
          "text": [
            "dict_keys(['and', 'document', 'first', 'is', 'one', 'second', 'the', 'third', 'this'])\n",
            "['and', 'document', 'first', 'is', 'one', 'second', 'the', 'third', 'this']\n"
          ],
          "name": "stdout"
        }
      ]
    },
    {
      "cell_type": "code",
      "metadata": {
        "colab": {
          "base_uri": "https://localhost:8080/"
        },
        "id": "sbTQFpPQK1ih",
        "outputId": "80ebdd64-4d1f-488a-d979-4355a8b25b74"
      },
      "source": [
        "print(idf_vocab.values())\n",
        "print(vectorizer.idf_) # sklearn values"
      ],
      "execution_count": null,
      "outputs": [
        {
          "output_type": "stream",
          "text": [
            "dict_values([1.916290731874155, 1.2231435513142097, 1.5108256237659907, 1.0, 1.916290731874155, 1.916290731874155, 1.0, 1.916290731874155, 1.0])\n",
            "[1.91629073 1.22314355 1.51082562 1.         1.91629073 1.91629073\n",
            " 1.         1.91629073 1.        ]\n"
          ],
          "name": "stdout"
        }
      ]
    },
    {
      "cell_type": "code",
      "metadata": {
        "id": "cXuc9qygpMyI"
      },
      "source": [
        "# for each row get each word term frequency .. by countvectorizer. then multiply with idf.\n",
        "def transform(new_corpus,idf_vocab):\n",
        "      rows    = []\n",
        "      columns = []\n",
        "      values  = []\n",
        "      # vocabulary from fitted data:\n",
        "      vocab = list(idf_vocab.keys())\n",
        "\n",
        "      if isinstance(new_corpus, (list,)):\n",
        "        for idx, row in enumerate(tqdm(corpus)):\n",
        "           # for each document in the dataset\n",
        "            # it will return a dict type object where key is the word and values is its frequency, {word:frequency}\n",
        "          word_freq = dict(Counter(row.split()))\n",
        "\n",
        "            # for every unique word in the document\n",
        "          for word, freq in word_freq.items():\n",
        "              # for each unique word in the review.     \n",
        "            if len(word) < 2:\n",
        "              continue\n",
        "\n",
        "                # we will check if it's there in the vocabulary that we build in fit() function\n",
        "                # get the index of word which is useful for getting column\n",
        "            if (word in vocab):\n",
        "              col_index = vocab.index(word) # retreving the dimension number of a word\n",
        "            else :\n",
        "              col_index = -1\n",
        "                # if the word exists\n",
        "            if col_index !=-1:\n",
        "                    # we are storing the index of the document\n",
        "              rows.append(idx)\n",
        "                    # we are storing the dimensions of the word\n",
        "              columns.append(col_index)\n",
        "                    # we are storing the frequency of the word\n",
        "              values.append(freq*idf_vocab[word])\n",
        "        k = csr_matrix((values, (rows,columns)), shape=(len(corpus),len(vocab)))\n",
        "        return normalize(k,norm='l2')      # by default axis = 1, normalize samplewise\n",
        "      else:\n",
        "        print(\"you need to pass list of strings\")\n"
      ],
      "execution_count": null,
      "outputs": []
    },
    {
      "cell_type": "code",
      "metadata": {
        "colab": {
          "base_uri": "https://localhost:8080/"
        },
        "id": "uPszV8Ii_7oo",
        "outputId": "169f275b-221c-40e0-c388-8350630a7291"
      },
      "source": [
        "transformed = transform(corpus,idf_vocab)"
      ],
      "execution_count": null,
      "outputs": [
        {
          "output_type": "stream",
          "text": [
            "100%|██████████| 4/4 [00:00<00:00, 6797.90it/s]\n"
          ],
          "name": "stderr"
        }
      ]
    },
    {
      "cell_type": "code",
      "metadata": {
        "colab": {
          "base_uri": "https://localhost:8080/"
        },
        "id": "NJ3qwlraD4gu",
        "outputId": "0ef0b0ec-8e36-4502-daed-99ffb470a9d1"
      },
      "source": [
        "print(transformed[0])"
      ],
      "execution_count": null,
      "outputs": [
        {
          "output_type": "stream",
          "text": [
            "  (0, 1)\t0.46979138557992045\n",
            "  (0, 2)\t0.5802858236844359\n",
            "  (0, 3)\t0.38408524091481483\n",
            "  (0, 6)\t0.38408524091481483\n",
            "  (0, 8)\t0.38408524091481483\n"
          ],
          "name": "stdout"
        }
      ]
    },
    {
      "cell_type": "code",
      "metadata": {
        "id": "71qQ3ISMwmrQ",
        "colab": {
          "base_uri": "https://localhost:8080/"
        },
        "outputId": "b7debe88-567c-44e6-a173-cf0515fefe9b"
      },
      "source": [
        "print(skl_output[0])"
      ],
      "execution_count": null,
      "outputs": [
        {
          "output_type": "stream",
          "text": [
            "  (0, 8)\t0.38408524091481483\n",
            "  (0, 6)\t0.38408524091481483\n",
            "  (0, 3)\t0.38408524091481483\n",
            "  (0, 2)\t0.5802858236844359\n",
            "  (0, 1)\t0.46979138557992045\n"
          ],
          "name": "stdout"
        }
      ]
    },
    {
      "cell_type": "markdown",
      "metadata": {
        "id": "MMxBmVZExLjK"
      },
      "source": [
        "## Task-2"
      ]
    },
    {
      "cell_type": "markdown",
      "metadata": {
        "id": "51j_OtqAxLjL"
      },
      "source": [
        "<font face='georgia'>\n",
        "    <h4><strong>2. Implement max features functionality:</strong></h4>\n",
        "\n",
        "<ul>\n",
        "    <li> As a part of this task you have to modify your fit and transform functions so that your vocab will contain only 50 terms with top idf scores.</li>\n",
        "    <br>\n",
        "    <li>This task is similar to your previous task, just that here your vocabulary is limited to only top 50 features names based on their idf values. Basically your output will have exactly 50 columns and the number of rows will depend on the number of documents you have in your corpus.</li>\n",
        "    <br>\n",
        "    <li>Here you will be give a pickle file, with file name <strong>cleaned_strings</strong>. You would have to load the corpus from this file and use it as input to your tfidf vectorizer.</li>\n",
        "    <br>\n",
        "    <li>Steps to approach this task:\n",
        "    <ol>\n",
        "        <li> You would have to write both fit and transform methods for your custom implementation of tfidf vectorizer, just like in the previous task. Additionally, here you have to limit the number of features generated to 50 as described above.</li>\n",
        "        <li> Now sort your vocab based in descending order of idf values and print out the words in the sorted voacb after you fit your data. Here you should be getting only 50 terms in your vocab. And make sure to print idf values for each term in your vocab. </li>\n",
        "        <li> Make sure the output of your implementation is a sparse matrix. Before generating the final output, you need to normalize your sparse matrix using L2 normalization. You can refer to this link https://scikit-learn.org/stable/modules/generated/sklearn.preprocessing.normalize.html </li>\n",
        "        <li> Now check the output of a single document in your collection of documents,  you can convert the sparse matrix related only to that document into dense matrix and print it. And this dense matrix should contain 1 row and 50 columns. </li>\n",
        "        </ol>\n",
        "    </li>\n",
        "    <br>\n",
        "   </ul>"
      ]
    },
    {
      "cell_type": "code",
      "metadata": {
        "id": "b14C6ZBOEeQ9",
        "colab": {
          "base_uri": "https://localhost:8080/"
        },
        "outputId": "058c9d99-d556-40c8-c7a7-1061add4715e"
      },
      "source": [
        "from google.colab import drive\n",
        "drive.mount('/content/drive')"
      ],
      "execution_count": null,
      "outputs": [
        {
          "output_type": "stream",
          "text": [
            "Drive already mounted at /content/drive; to attempt to forcibly remount, call drive.mount(\"/content/drive\", force_remount=True).\n"
          ],
          "name": "stdout"
        }
      ]
    },
    {
      "cell_type": "code",
      "metadata": {
        "id": "S9ZXj-PhEmWM"
      },
      "source": [
        "path = \"/content/drive/My Drive/5_Implementing TFIDF vectorizer/cleaned_strings\""
      ],
      "execution_count": null,
      "outputs": []
    },
    {
      "cell_type": "code",
      "metadata": {
        "id": "NHxPLlwNxLjL",
        "colab": {
          "base_uri": "https://localhost:8080/"
        },
        "outputId": "9b471574-bb8c-425d-c7f3-a59752b371d4"
      },
      "source": [
        "# Below is the code to load the cleaned_strings pickle file provided\n",
        "# Here corpus is of list type\n",
        "\n",
        "import pickle\n",
        "with open(path, 'rb') as f:\n",
        "    corpus = pickle.load(f)\n",
        "    \n",
        "# printing the length of the corpus loaded\n",
        "print(\"Number of documents in corpus = \",len(corpus))"
      ],
      "execution_count": null,
      "outputs": [
        {
          "output_type": "stream",
          "text": [
            "Number of documents in corpus =  746\n"
          ],
          "name": "stdout"
        }
      ]
    },
    {
      "cell_type": "code",
      "metadata": {
        "id": "FbTIRtCROfBB"
      },
      "source": [
        "# function which return top 50 idf value-words in a form of dictionary\n",
        "\n",
        "def idf_maxFeatures(corpus,vocab,max_features):\n",
        "  No_of_documents = len(corpus)                                       #  total number of documents in a corpus\n",
        "\n",
        "  def isWordPresentInDocument(document,word):                         # inner function to find out whether the word is present in a perticular document or not?\n",
        "    words = document.split(\" \")\n",
        "    if word not in words:\n",
        "      return False\n",
        "    else:\n",
        "      return True\n",
        "  \n",
        "  counter = {}                                                        # to store, in how many documents each word is present\n",
        "  for word in vocab:\n",
        "    count =0\n",
        "    for document in corpus:\n",
        "      status = isWordPresentInDocument(document,word)\n",
        "      if (status==True):\n",
        "        count=count+1\n",
        "    counter[word]=count\n",
        "  \n",
        "  idf = {}\n",
        "  for word in counter.keys():                                        \n",
        "    idf[word] = (1+math.log((1+No_of_documents)/(1+counter[word])))                         # calculating idf values \n",
        "  newidfVocab = {k:v for k,v in sorted(idf.items(),key=lambda item:item[1],reverse=True)}   # sorting words in decreasing order of their idf values \n",
        "  newidfVocab = dict(list(newidfVocab.items())[:max_features])\n",
        "\n",
        "  return newidfVocab"
      ],
      "execution_count": null,
      "outputs": []
    },
    {
      "cell_type": "code",
      "metadata": {
        "id": "SoDl5jmwOjLQ"
      },
      "source": [
        "# fit method to return dictionary containing unique words with decreasing order of idf values in it.\n",
        "\n",
        "def fit_maxFeatures(corpus,max_features=50):\n",
        "  unique_words = set()                                  # to keep unique words\n",
        "  if isinstance(corpus,(list,)):                        # to check corpus is list type or not.\n",
        "    for document in corpus:                             # for each document in the corpus.\n",
        "      for word in document.split(\" \"):                  # for each word in the review. split method converts a string into list of words\n",
        "        if len(word)<2:                                 # if eliminate words which are having length == 1 ,\n",
        "          continue\n",
        "        unique_words.add(word)\n",
        "    unique_words = sorted(list(unique_words))           # sorted order of unique words\n",
        "    vocab = idf_maxFeatures(corpus,unique_words,max_features)         # calling idf_maxFeatures function to store vocabulary w.r.t their idf values\n",
        "    return vocab\n",
        "  else:\n",
        "    print('pass list ')\n"
      ],
      "execution_count": null,
      "outputs": []
    },
    {
      "cell_type": "code",
      "metadata": {
        "id": "-EZUwvJNOke4"
      },
      "source": [
        "# for each row get each word term frequency .. by countvectorizer. then multiply with idf.\n",
        "def transform_maxFeatures(new_corpus,idf_vocab):\n",
        "      rows    = []\n",
        "      columns = []\n",
        "      values  = []\n",
        "      # vocabulary from fitted data:\n",
        "      vocab = list(idf_vocab.keys())\n",
        "\n",
        "      if isinstance(new_corpus, (list,)):\n",
        "        for idx, row in enumerate(tqdm(corpus)):\n",
        "           # for each document in the dataset\n",
        "            # it will return a dict type object where key is the word and values is its frequency, {word:frequency}\n",
        "          word_freq = dict(Counter(row.split()))\n",
        "\n",
        "            # for every unique word in the document\n",
        "          for word, freq in word_freq.items():\n",
        "              # for each unique word in the review.     \n",
        "            if len(word) < 2:\n",
        "              continue\n",
        "\n",
        "                # we will check if it's there in the vocabulary that we build in fit() function\n",
        "                # get the index of word which is useful for getting column\n",
        "            if (word in vocab):\n",
        "              col_index = vocab.index(word) # retreving the dimension number of a word\n",
        "            else :\n",
        "              col_index = -1\n",
        "                # if the word exists\n",
        "            if col_index !=-1:\n",
        "                    # we are storing the index of the document\n",
        "              rows.append(idx)\n",
        "                    # we are storing the dimensions of the word\n",
        "              columns.append(col_index)\n",
        "                    # we are storing the frequency of the word\n",
        "              values.append(freq*idf_vocab[word])\n",
        "        k = csr_matrix((values, (rows,columns)), shape=(len(corpus),len(vocab)))\n",
        "        return normalize(k,norm='l2')      # by default axis = 1, normalize samplewise\n",
        "      else:\n",
        "        print(\"you need to pass list of strings\")\n"
      ],
      "execution_count": null,
      "outputs": []
    },
    {
      "cell_type": "code",
      "metadata": {
        "colab": {
          "base_uri": "https://localhost:8080/"
        },
        "id": "H735VGSmWHev",
        "outputId": "6527a23f-1919-46db-b797-f38673b56e69"
      },
      "source": [
        "# fit and transform with top 50 idf value features.\n",
        "idf_vocab2 = fit_maxFeatures(corpus,max_features=50)\n",
        "transfomed2 = transform_maxFeatures(corpus,idf_vocab2)"
      ],
      "execution_count": null,
      "outputs": [
        {
          "output_type": "stream",
          "text": [
            "100%|██████████| 746/746 [00:00<00:00, 68676.08it/s]\n"
          ],
          "name": "stderr"
        }
      ]
    },
    {
      "cell_type": "code",
      "metadata": {
        "colab": {
          "base_uri": "https://localhost:8080/"
        },
        "id": "B7SBOlmIWnsE",
        "outputId": "78435606-1e86-40a0-d904-272946b61d49"
      },
      "source": [
        "# top 50 features idf values.\n",
        "print(idf_vocab2.values())\n",
        "# top 50 features names\n",
        "print(idf_vocab2.keys())"
      ],
      "execution_count": null,
      "outputs": [
        {
          "output_type": "stream",
          "text": [
            "dict_values([6.922918004572872, 6.922918004572872, 6.922918004572872, 6.922918004572872, 6.922918004572872, 6.922918004572872, 6.922918004572872, 6.922918004572872, 6.922918004572872, 6.922918004572872, 6.922918004572872, 6.922918004572872, 6.922918004572872, 6.922918004572872, 6.922918004572872, 6.922918004572872, 6.922918004572872, 6.922918004572872, 6.922918004572872, 6.922918004572872, 6.922918004572872, 6.922918004572872, 6.922918004572872, 6.922918004572872, 6.922918004572872, 6.922918004572872, 6.922918004572872, 6.922918004572872, 6.922918004572872, 6.922918004572872, 6.922918004572872, 6.922918004572872, 6.922918004572872, 6.922918004572872, 6.922918004572872, 6.922918004572872, 6.922918004572872, 6.922918004572872, 6.922918004572872, 6.922918004572872, 6.922918004572872, 6.922918004572872, 6.922918004572872, 6.922918004572872, 6.922918004572872, 6.922918004572872, 6.922918004572872, 6.922918004572872, 6.922918004572872, 6.922918004572872])\n",
            "dict_keys(['aailiyah', 'abandoned', 'abroad', 'abstruse', 'academy', 'accents', 'accessible', 'acclaimed', 'accolades', 'accurate', 'accurately', 'achille', 'ackerman', 'actions', 'adams', 'add', 'added', 'admins', 'admiration', 'admitted', 'adrift', 'adventure', 'aesthetically', 'affected', 'affleck', 'afternoon', 'aged', 'ages', 'agree', 'agreed', 'aimless', 'aired', 'akasha', 'akin', 'alert', 'alike', 'allison', 'allow', 'allowing', 'alongside', 'amateurish', 'amaze', 'amazed', 'amazingly', 'amusing', 'amust', 'anatomist', 'angel', 'angela', 'angelina'])\n"
          ],
          "name": "stdout"
        }
      ]
    },
    {
      "cell_type": "code",
      "metadata": {
        "colab": {
          "base_uri": "https://localhost:8080/"
        },
        "id": "yqlNgawUW3FF",
        "outputId": "316fd60b-0664-4dea-ad21-b0b1a2296c7c"
      },
      "source": [
        "# for zeroth document it has 50 columns\n",
        "print(transfomed2[0].toarray().shape)"
      ],
      "execution_count": null,
      "outputs": [
        {
          "output_type": "stream",
          "text": [
            "(1, 50)\n"
          ],
          "name": "stdout"
        }
      ]
    },
    {
      "cell_type": "code",
      "metadata": {
        "id": "IW9k_bG1EWku"
      },
      "source": [
        ""
      ],
      "execution_count": null,
      "outputs": []
    }
  ]
}