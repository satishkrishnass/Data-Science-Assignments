{
  "nbformat": 4,
  "nbformat_minor": 0,
  "metadata": {
    "colab": {
      "name": "Assignment_4_Instructions.ipynb",
      "provenance": [],
      "collapsed_sections": []
    },
    "language_info": {
      "codemirror_mode": {
        "name": "ipython",
        "version": 3
      },
      "file_extension": ".py",
      "mimetype": "text/x-python",
      "name": "python",
      "nbconvert_exporter": "python",
      "pygments_lexer": "ipython3",
      "version": "3.6.8"
    },
    "kernelspec": {
      "display_name": "Python 3",
      "language": "python",
      "name": "python3"
    },
    "widgets": {
      "application/vnd.jupyter.widget-state+json": {
        "4486c60b8fa84bdd992528e0efa5cdb7": {
          "model_module": "@jupyter-widgets/controls",
          "model_name": "HBoxModel",
          "state": {
            "_view_name": "HBoxView",
            "_dom_classes": [],
            "_model_name": "HBoxModel",
            "_view_module": "@jupyter-widgets/controls",
            "_model_module_version": "1.5.0",
            "_view_count": null,
            "_view_module_version": "1.5.0",
            "box_style": "",
            "layout": "IPY_MODEL_a656382a42494e9195580dca49e4008d",
            "_model_module": "@jupyter-widgets/controls",
            "children": [
              "IPY_MODEL_850333f369414045a1cccce947020bca",
              "IPY_MODEL_b2e0f4f5c2674b28a7d5436447a3d44d"
            ]
          }
        },
        "a656382a42494e9195580dca49e4008d": {
          "model_module": "@jupyter-widgets/base",
          "model_name": "LayoutModel",
          "state": {
            "_view_name": "LayoutView",
            "grid_template_rows": null,
            "right": null,
            "justify_content": null,
            "_view_module": "@jupyter-widgets/base",
            "overflow": null,
            "_model_module_version": "1.2.0",
            "_view_count": null,
            "flex_flow": null,
            "width": null,
            "min_width": null,
            "border": null,
            "align_items": null,
            "bottom": null,
            "_model_module": "@jupyter-widgets/base",
            "top": null,
            "grid_column": null,
            "overflow_y": null,
            "overflow_x": null,
            "grid_auto_flow": null,
            "grid_area": null,
            "grid_template_columns": null,
            "flex": null,
            "_model_name": "LayoutModel",
            "justify_items": null,
            "grid_row": null,
            "max_height": null,
            "align_content": null,
            "visibility": null,
            "align_self": null,
            "height": null,
            "min_height": null,
            "padding": null,
            "grid_auto_rows": null,
            "grid_gap": null,
            "max_width": null,
            "order": null,
            "_view_module_version": "1.2.0",
            "grid_template_areas": null,
            "object_position": null,
            "object_fit": null,
            "grid_auto_columns": null,
            "margin": null,
            "display": null,
            "left": null
          }
        },
        "850333f369414045a1cccce947020bca": {
          "model_module": "@jupyter-widgets/controls",
          "model_name": "FloatProgressModel",
          "state": {
            "_view_name": "ProgressView",
            "style": "IPY_MODEL_d4cb80119ec64688b2afdc579f700454",
            "_dom_classes": [],
            "description": "100%",
            "_model_name": "FloatProgressModel",
            "bar_style": "success",
            "max": 10,
            "_view_module": "@jupyter-widgets/controls",
            "_model_module_version": "1.5.0",
            "value": 10,
            "_view_count": null,
            "_view_module_version": "1.5.0",
            "orientation": "horizontal",
            "min": 0,
            "description_tooltip": null,
            "_model_module": "@jupyter-widgets/controls",
            "layout": "IPY_MODEL_9a7bdadbab6b41b592717886bbc5811e"
          }
        },
        "b2e0f4f5c2674b28a7d5436447a3d44d": {
          "model_module": "@jupyter-widgets/controls",
          "model_name": "HTMLModel",
          "state": {
            "_view_name": "HTMLView",
            "style": "IPY_MODEL_2b3a747610654a4c9b192552c74121ef",
            "_dom_classes": [],
            "description": "",
            "_model_name": "HTMLModel",
            "placeholder": "​",
            "_view_module": "@jupyter-widgets/controls",
            "_model_module_version": "1.5.0",
            "value": " 10/10 [00:07&lt;00:00,  1.35it/s]",
            "_view_count": null,
            "_view_module_version": "1.5.0",
            "description_tooltip": null,
            "_model_module": "@jupyter-widgets/controls",
            "layout": "IPY_MODEL_cea5988034b64f19901da12ef4c37bc4"
          }
        },
        "d4cb80119ec64688b2afdc579f700454": {
          "model_module": "@jupyter-widgets/controls",
          "model_name": "ProgressStyleModel",
          "state": {
            "_view_name": "StyleView",
            "_model_name": "ProgressStyleModel",
            "description_width": "initial",
            "_view_module": "@jupyter-widgets/base",
            "_model_module_version": "1.5.0",
            "_view_count": null,
            "_view_module_version": "1.2.0",
            "bar_color": null,
            "_model_module": "@jupyter-widgets/controls"
          }
        },
        "9a7bdadbab6b41b592717886bbc5811e": {
          "model_module": "@jupyter-widgets/base",
          "model_name": "LayoutModel",
          "state": {
            "_view_name": "LayoutView",
            "grid_template_rows": null,
            "right": null,
            "justify_content": null,
            "_view_module": "@jupyter-widgets/base",
            "overflow": null,
            "_model_module_version": "1.2.0",
            "_view_count": null,
            "flex_flow": null,
            "width": null,
            "min_width": null,
            "border": null,
            "align_items": null,
            "bottom": null,
            "_model_module": "@jupyter-widgets/base",
            "top": null,
            "grid_column": null,
            "overflow_y": null,
            "overflow_x": null,
            "grid_auto_flow": null,
            "grid_area": null,
            "grid_template_columns": null,
            "flex": null,
            "_model_name": "LayoutModel",
            "justify_items": null,
            "grid_row": null,
            "max_height": null,
            "align_content": null,
            "visibility": null,
            "align_self": null,
            "height": null,
            "min_height": null,
            "padding": null,
            "grid_auto_rows": null,
            "grid_gap": null,
            "max_width": null,
            "order": null,
            "_view_module_version": "1.2.0",
            "grid_template_areas": null,
            "object_position": null,
            "object_fit": null,
            "grid_auto_columns": null,
            "margin": null,
            "display": null,
            "left": null
          }
        },
        "2b3a747610654a4c9b192552c74121ef": {
          "model_module": "@jupyter-widgets/controls",
          "model_name": "DescriptionStyleModel",
          "state": {
            "_view_name": "StyleView",
            "_model_name": "DescriptionStyleModel",
            "description_width": "",
            "_view_module": "@jupyter-widgets/base",
            "_model_module_version": "1.5.0",
            "_view_count": null,
            "_view_module_version": "1.2.0",
            "_model_module": "@jupyter-widgets/controls"
          }
        },
        "cea5988034b64f19901da12ef4c37bc4": {
          "model_module": "@jupyter-widgets/base",
          "model_name": "LayoutModel",
          "state": {
            "_view_name": "LayoutView",
            "grid_template_rows": null,
            "right": null,
            "justify_content": null,
            "_view_module": "@jupyter-widgets/base",
            "overflow": null,
            "_model_module_version": "1.2.0",
            "_view_count": null,
            "flex_flow": null,
            "width": null,
            "min_width": null,
            "border": null,
            "align_items": null,
            "bottom": null,
            "_model_module": "@jupyter-widgets/base",
            "top": null,
            "grid_column": null,
            "overflow_y": null,
            "overflow_x": null,
            "grid_auto_flow": null,
            "grid_area": null,
            "grid_template_columns": null,
            "flex": null,
            "_model_name": "LayoutModel",
            "justify_items": null,
            "grid_row": null,
            "max_height": null,
            "align_content": null,
            "visibility": null,
            "align_self": null,
            "height": null,
            "min_height": null,
            "padding": null,
            "grid_auto_rows": null,
            "grid_gap": null,
            "max_width": null,
            "order": null,
            "_view_module_version": "1.2.0",
            "grid_template_areas": null,
            "object_position": null,
            "object_fit": null,
            "grid_auto_columns": null,
            "margin": null,
            "display": null,
            "left": null
          }
        }
      }
    }
  },
  "cells": [
    {
      "cell_type": "code",
      "metadata": {
        "id": "breSw6aYkgd8"
      },
      "source": [
        "from sklearn.datasets import make_classification\n",
        "from sklearn.model_selection import train_test_split\n",
        "from sklearn.preprocessing import StandardScaler\n",
        "import numpy\n",
        "from tqdm import tqdm_notebook\n",
        "import numpy as np\n",
        "from sklearn.metrics.pairwise import euclidean_distances\n",
        "\n",
        "\n",
        "x,y = make_classification(n_samples=10000, n_features=2, n_informative=2, n_redundant= 0, n_clusters_per_class=1, random_state=60)\n",
        "X_train, X_test, y_train, y_test = train_test_split(x,y,stratify=y,random_state=42)\n",
        "\n",
        "# del X_train,X_test"
      ],
      "execution_count": null,
      "outputs": []
    },
    {
      "cell_type": "code",
      "metadata": {
        "id": "i1jM4vjwkgeF",
        "colab": {
          "base_uri": "https://localhost:8080/",
          "height": 265
        },
        "outputId": "8f4a6d61-1cdb-4556-ebd0-4a8c65f68939"
      },
      "source": [
        "%matplotlib inline\n",
        "import matplotlib.pyplot as plt\n",
        "colors = {0:'red', 1:'blue'}\n",
        "plt.scatter(X_test[:,0], X_test[:,1],c=y_test)\n",
        "plt.show()"
      ],
      "execution_count": null,
      "outputs": [
        {
          "output_type": "display_data",
          "data": {
            "image/png": "[encoded data removed]",
            "text/plain": [
              "<Figure size 432x288 with 1 Axes>"
            ]
          },
          "metadata": {
            "tags": [],
            "needs_background": "light"
          }
        }
      ]
    },
    {
      "cell_type": "markdown",
      "metadata": {
        "id": "jJM-3AzTkgeQ"
      },
      "source": [
        "# Implementing Custom RandomSearchCV"
      ]
    },
    {
      "cell_type": "markdown",
      "metadata": {
        "id": "gXpMFxiUkgeS"
      },
      "source": [
        "<pre>\n",
        "def RandomSearchCV(x_train,y_train,classifier, param_range, folds):\n",
        "    # x_train: its numpy array of shape, (n,d)\n",
        "    # y_train: its numpy array of shape, (n,) or (n,1)\n",
        "    # classifier: its typically KNeighborsClassifier()\n",
        "    # param_range: its a tuple like (a,b) a < b\n",
        "    # folds: an integer, represents number of folds we need to devide the data and test our model\n",
        "    \n",
        "    \n",
        "    #1.generate 10 unique values(uniform random distribution) in the given range \"param_range\" and store them as \"params\" \n",
        "    # ex: if param_range = (1, 50), we need to generate 10 random numbers in range 1 to 50\n",
        "    #2.devide numbers ranging from  0 to len(X_train) into groups= folds\n",
        "    # ex: folds=3, and len(x_train)=100, we can devide numbers from 0 to 100 into 3 groups \n",
        "      group 1: 0-33, group 2:34-66, group 3: 67-100\n",
        "    #3.for each hyperparameter that we generated in step 1:\n",
        "        # and using the above groups we have created in step 2 you will do cross-validation as follows\n",
        "        \n",
        "        # first we will keep group 1+group 2 i.e. 0-66 as train data and group 3: 67-100 as test data, and find train and\n",
        "          test accuracies\n",
        "          \n",
        "        # second we will keep group 1+group 3 i.e. 0-33, 67-100 as train data and group 2: 34-66 as test data, and find\n",
        "          train and test accuracies\n",
        "          \n",
        "        # third we will keep group 2+group 3 i.e. 34-100 as train data and group 1: 0-33 as test data, and find train and\n",
        "          test accuracies\n",
        "        # based on the 'folds' value we will do the same procedure\n",
        "        \n",
        "        # find the mean of train accuracies of above 3 steps and store in a list \"train_scores\"\n",
        "        # find the mean of test accuracies of above 3 steps and store in a list \"test_scores\"\n",
        "    #4. return both \"train_scores\" and \"test_scores\"\n",
        "\n",
        "#5. call function RandomSearchCV(x_train,y_train,classifier, param_range, folds) and store the returned values into \"train_score\", and \"cv_scores\"\n",
        "#6. plot hyper-parameter vs accuracy plot as shown in reference notebook and choose the best hyperparameter\n",
        "#7. plot the decision boundaries for the model initialized with the best hyperparameter, as shown in the last cell of reference notebook\n",
        "\n",
        "</pre>"
      ]
    },
    {
      "cell_type": "code",
      "metadata": {
        "id": "PBWxPCR21S8L"
      },
      "source": [
        "from scipy.stats import randint \n",
        "import random"
      ],
      "execution_count": null,
      "outputs": []
    },
    {
      "cell_type": "code",
      "metadata": {
        "id": "RzYOeqE4Vo8r"
      },
      "source": [
        "#1.generate 10 unique values(uniform random distribution) in the given range \"param_range\" and store them as \"params\" \n",
        "def n_neighbors(param_range):\n",
        "  descreteUniformRandomVariables_inRange = list(set(randint.rvs(param_range[0],param_range[1],size=100)))\n",
        "  # odd values for majority use\n",
        "  Odd_Numbers                            = [each for each in descreteUniformRandomVariables_inRange if each%2!=0 or each==1] \n",
        "  # 10 values randomly \n",
        "  randomTenValues                        = sorted(random.sample(Odd_Numbers,k=10))                                            \n",
        "  return randomTenValues"
      ],
      "execution_count": null,
      "outputs": []
    },
    {
      "cell_type": "code",
      "metadata": {
        "colab": {
          "base_uri": "https://localhost:8080/"
        },
        "id": "eq1q1-RFAGrJ",
        "outputId": "081fe5a2-de45-4bd1-bc58-e0d11a985746"
      },
      "source": [
        "testing = n_neighbors((1,50))\n",
        "print(testing)"
      ],
      "execution_count": null,
      "outputs": [
        {
          "output_type": "stream",
          "text": [
            "[9, 17, 21, 23, 27, 29, 39, 41, 45, 47]\n"
          ],
          "name": "stdout"
        }
      ]
    },
    {
      "cell_type": "markdown",
      "metadata": {
        "id": "4Ox1mDM6Ys3N"
      },
      "source": [
        "**The general procedure is as follows:**\n",
        "1. Shuffle the dataset randomly.\n",
        "2. Split the train dataset into k groups\n",
        "3. For each unique group:\n",
        "    1. Take a group as a hold out or cross validation data set\n",
        "    2. Take the remaining groups as a training data set\n",
        "    3. Fit a model on the training set and evaluate it on the cv data set\n",
        "    4. Retain the evaluation score and discard the model\n",
        "4. Summarize the skill of the model using the sample of model evaluation scores\n",
        "\n",
        "reference: https://machinelearningmastery.com/k-fold-cross-validation/"
      ]
    },
    {
      "cell_type": "code",
      "metadata": {
        "id": "2LgSdjDJYUGV"
      },
      "source": [
        "from sklearn.utils import shuffle\n",
        "\n",
        "# splitting indexes into k-fold:\n",
        "# reference: https://stackoverflow.com/questions/2130016/splitting-a-list-into-n-parts-of-approximately-equal-length\n",
        "#2.devide numbers ranging from  0 to len(X_train) into groups= folds\n",
        "# ex: folds=3, and len(x_train)=100, we can devide numbers from 0 to 100 into 3 groups \n",
        "# group 1: 0-33, group 2:34-66, group 3: 67-100\n",
        "# function returns list of lists contains k parts (as k-fold) of equal no of indexes, which are used to split train data into k-parts for k-fold cv test.\n",
        "def chunkIt(seq,k):\n",
        "  avg = len(seq)/float(k)\n",
        "  out = []\n",
        "  last = 0.0\n",
        "  while last < len(seq):\n",
        "    out.append(seq[int(last):int(last + avg)])\n",
        "    last += avg\n",
        "  return out\n",
        "  "
      ],
      "execution_count": null,
      "outputs": []
    },
    {
      "cell_type": "code",
      "metadata": {
        "colab": {
          "base_uri": "https://localhost:8080/"
        },
        "id": "K-9h9FBcF1BR",
        "outputId": "b7661513-cef0-40e7-aefa-b3a2a54a63f6"
      },
      "source": [
        "testing = chunkIt(range(12), 3)\n",
        "print(testing)"
      ],
      "execution_count": null,
      "outputs": [
        {
          "output_type": "stream",
          "text": [
            "[range(0, 4), range(4, 8), range(8, 12)]\n"
          ],
          "name": "stdout"
        }
      ]
    },
    {
      "cell_type": "code",
      "metadata": {
        "id": "QRz1Mm0aK2F0"
      },
      "source": [
        "from sklearn.metrics import accuracy_score\n",
        "def randomSearchCV(x_train,y_train,classifier,n_neighbor,kfolds):\n",
        "    n_neighbor = n_neighbor\n",
        "    indexes = list(range(len(x_train)))\n",
        "    # split train indices into k-chunks for train and cv in future use.\n",
        "    splits = chunkIt(indexes,kfolds)            \n",
        "    # list to store cross validation mean scores,train mean scores for perticular k-Nearest Neighbor from k-fold cross validation.\n",
        "    cvscores = []                               \n",
        "    trainscores= []                             \n",
        "\n",
        "    for each_neighbor in tqdm_notebook(n_neighbor):      # for each neighbor calculate trainfold and cvfold \n",
        "        trainfold = []\n",
        "        cvfold  = []\n",
        "        \n",
        "        # k-fold cv for each neighbor\n",
        "        for i in range(len(splits)):           \n",
        "            train_indexes = []\n",
        "\n",
        "            cv_indexes = splits[i]            # take one split data out for cross validation using their indices.\n",
        "            for j in range(len(splits)):      # assign remaining split data into train data using their indices.\n",
        "                if j!=i:\n",
        "                    train_indexes.extend(splits[j])  \n",
        "\n",
        "            X_train = x_train[train_indexes]        # k-1 parts into train data\n",
        "            Y_train = y_train[train_indexes]\n",
        "            X_cv  = x_train[cv_indexes]             # 1 part into cv data.\n",
        "            Y_cv  = y_train[cv_indexes]\n",
        "\n",
        "            classifier.n_neighbors = each_neighbor      # classifier initialization\n",
        "            classifier.fit(X_train,Y_train)             # fit on train data\n",
        "\n",
        "            Y_predicted = classifier.predict(X_cv)                      # predict on cross-validation data\n",
        "            cvfold.append(accuracy_score(Y_cv,Y_predicted))             # store in cv fold\n",
        "            \n",
        "            Y_predicted = classifier.predict(X_train)                   # predict on train data\n",
        "            trainfold.append(accuracy_score(Y_train,Y_predicted))       # store in train fold\n",
        "\n",
        "        # storing mean score for cv and train data related to perticular k-nn.\n",
        "        cvscores.append(np.mean(np.array(cvfold)))                  \n",
        "        trainscores.append(np.mean(np.array(trainfold)))              \n",
        "\n",
        "    return trainscores,cvscores\n",
        "            \n"
      ],
      "execution_count": null,
      "outputs": []
    },
    {
      "cell_type": "code",
      "metadata": {
        "id": "_QB6npjazraq",
        "colab": {
          "base_uri": "https://localhost:8080/",
          "height": 330,
          "referenced_widgets": [
            "4486c60b8fa84bdd992528e0efa5cdb7",
            "a656382a42494e9195580dca49e4008d",
            "850333f369414045a1cccce947020bca",
            "b2e0f4f5c2674b28a7d5436447a3d44d",
            "d4cb80119ec64688b2afdc579f700454",
            "9a7bdadbab6b41b592717886bbc5811e",
            "2b3a747610654a4c9b192552c74121ef",
            "cea5988034b64f19901da12ef4c37bc4"
          ]
        },
        "outputId": "556c5d75-f1a7-41b5-ebe1-22e30106ac8d"
      },
      "source": [
        "from sklearn.metrics import accuracy_score\n",
        "from sklearn.neighbors import KNeighborsClassifier\n",
        "import matplotlib.pyplot as plt\n",
        "import random\n",
        "import warnings\n",
        "warnings.filterwarnings(\"ignore\")\n",
        "\n",
        "neigh = KNeighborsClassifier()        # k-nn classifier initialize\n",
        "nRange = (1,50)                       # range for randamCV\n",
        "folds = 3                             # k-fold value\n",
        "# generating k random hyperparameter values using function n_neighbors\n",
        "params = n_neighbors(nRange)      \n",
        "\n",
        "trainscores,cvscores = randomSearchCV(X_train, y_train, neigh,params, folds)\n",
        "\n",
        "plt.plot(params,trainscores, label='train cruve')\n",
        "plt.plot(params,cvscores, label='cv cruve')\n",
        "plt.title('Hyper-parameter VS accuracy plot')\n",
        "plt.legend()\n",
        "plt.show()\n",
        "    "
      ],
      "execution_count": null,
      "outputs": [
        {
          "output_type": "display_data",
          "data": {
            "application/vnd.jupyter.widget-view+json": {
              "model_id": "4486c60b8fa84bdd992528e0efa5cdb7",
              "version_minor": 0,
              "version_major": 2
            },
            "text/plain": [
              "HBox(children=(FloatProgress(value=0.0, max=10.0), HTML(value='')))"
            ]
          },
          "metadata": {
            "tags": []
          }
        },
        {
          "output_type": "stream",
          "text": [
            "\n"
          ],
          "name": "stdout"
        },
        {
          "output_type": "display_data",
          "data": {
            "image/png": "[encoded data removed]",
            "text/plain": [
              "<Figure size 432x288 with 1 Axes>"
            ]
          },
          "metadata": {
            "tags": [],
            "needs_background": "light"
          }
        }
      ]
    },
    {
      "cell_type": "code",
      "metadata": {
        "colab": {
          "base_uri": "https://localhost:8080/"
        },
        "id": "uWa0ByfD_1Ah",
        "outputId": "f3ca7e38-16b3-4715-e74f-1721815add00"
      },
      "source": [
        "print(params)"
      ],
      "execution_count": null,
      "outputs": [
        {
          "output_type": "stream",
          "text": [
            "[9, 11, 13, 15, 29, 31, 35, 43, 45, 47]\n"
          ],
          "name": "stdout"
        }
      ]
    },
    {
      "cell_type": "code",
      "metadata": {
        "id": "x8S0_n0ZM30B"
      },
      "source": [
        "# function to pick best k by using min diff b/n errors.\n",
        "def bestK(trainscores,testscores,params):\n",
        "  index = 0\n",
        "  min   = 10\n",
        "  for i in range(len(cvscores)):\n",
        "    x = 1 - trainscores[i]        # error = (1 - accuracy) for trainscores for perticular k\n",
        "    y = 1- cvscores[i]            # error for cv scores\n",
        "    diff = abs(x-y)               # absolute diff b/w train_error and cv_error\n",
        "    if (diff < min):\n",
        "      min = diff\n",
        "      index = i                   # picking min diff error k - hyperparameter.\n",
        "  return params[index]\n",
        "\n"
      ],
      "execution_count": null,
      "outputs": []
    },
    {
      "cell_type": "code",
      "metadata": {
        "colab": {
          "base_uri": "https://localhost:8080/"
        },
        "id": "e0-FUh7FNoHP",
        "outputId": "319fa9ca-0412-42bf-9c5c-2403069b6c9e"
      },
      "source": [
        "bestk= bestK(trainscores,cvscores,params)\n",
        "print(bestk)"
      ],
      "execution_count": null,
      "outputs": [
        {
          "output_type": "stream",
          "text": [
            "45\n"
          ],
          "name": "stdout"
        }
      ]
    },
    {
      "cell_type": "code",
      "metadata": {
        "id": "33ZVzZ3N9gpa"
      },
      "source": [
        "# understanding this code line by line is not that importent \n",
        "def plot_decision_boundary(X1, X2, y, clf):\n",
        "        # Create color maps\n",
        "    cmap_light = ListedColormap(['#FFAAAA', '#AAFFAA', '#AAAAFF'])\n",
        "    cmap_bold = ListedColormap(['#FF0000', '#00FF00', '#0000FF'])\n",
        "\n",
        "    x_min, x_max = X1.min() - 1, X1.max() + 1\n",
        "    y_min, y_max = X2.min() - 1, X2.max() + 1\n",
        "    \n",
        "    xx, yy = np.meshgrid(np.arange(x_min, x_max, 0.02), np.arange(y_min, y_max, 0.02))\n",
        "    Z = clf.predict(np.c_[xx.ravel(), yy.ravel()])\n",
        "    Z = Z.reshape(xx.shape)\n",
        "\n",
        "    plt.figure()\n",
        "    plt.pcolormesh(xx, yy, Z, cmap=cmap_light)\n",
        "    # Plot also the training points\n",
        "    plt.scatter(X1, X2, c=y, cmap=cmap_bold)\n",
        "    \n",
        "    plt.xlim(xx.min(), xx.max())\n",
        "    plt.ylim(yy.min(), yy.max())\n",
        "    plt.title(\"2-Class classification (k = %i)\" % (clf.n_neighbors))\n",
        "    plt.show()"
      ],
      "execution_count": null,
      "outputs": []
    },
    {
      "cell_type": "code",
      "metadata": {
        "id": "clEEPsk2S5zY",
        "colab": {
          "base_uri": "https://localhost:8080/",
          "height": 298
        },
        "outputId": "bfaf8bc2-2876-4571-f748-320b66244e8c"
      },
      "source": [
        "# from above best k's \"bestk\"\n",
        "print(\"Best k- \",bestk)\n",
        "from matplotlib.colors import ListedColormap\n",
        "neigh = KNeighborsClassifier(n_neighbors = bestk)\n",
        "neigh.fit(X_train, y_train)\n",
        "# decison_boundary on actual test data by using best choosen 'k-hyperparameter'\n",
        "plot_decision_boundary(X_test[:, 0], X_test[:, 1], y_test, neigh)  "
      ],
      "execution_count": null,
      "outputs": [
        {
          "output_type": "stream",
          "text": [
            "Best k-  45\n"
          ],
          "name": "stdout"
        },
        {
          "output_type": "display_data",
          "data": {
            "image/png": "[encoded data removed]",
            "text/plain": [
              "<Figure size 432x288 with 1 Axes>"
            ]
          },
          "metadata": {
            "tags": [],
            "needs_background": "light"
          }
        }
      ]
    },
    {
      "cell_type": "code",
      "metadata": {
        "id": "loCOYe3A9Z2d"
      },
      "source": [
        ""
      ],
      "execution_count": null,
      "outputs": []
    }
  ]
}