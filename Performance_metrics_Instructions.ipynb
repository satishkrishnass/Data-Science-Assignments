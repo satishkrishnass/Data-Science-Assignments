{
  "nbformat": 4,
  "nbformat_minor": 0,
  "metadata": {
    "colab": {
      "name": "5_Performance_metrics_Instructions.ipynb",
      "provenance": [],
      "collapsed_sections": []
    },
    "language_info": {
      "codemirror_mode": {
        "name": "ipython",
        "version": 3
      },
      "file_extension": ".py",
      "mimetype": "text/x-python",
      "name": "python",
      "nbconvert_exporter": "python",
      "pygments_lexer": "ipython3",
      "version": "3.6.8"
    },
    "kernelspec": {
      "display_name": "Python 3",
      "language": "python",
      "name": "python3"
    },
    "widgets": {
      "application/vnd.jupyter.widget-state+json": {
        "d55763273a3e44d58cd0f0adc75f1ca6": {
          "model_module": "@jupyter-widgets/controls",
          "model_name": "HBoxModel",
          "state": {
            "_view_name": "HBoxView",
            "_dom_classes": [],
            "_model_name": "HBoxModel",
            "_view_module": "@jupyter-widgets/controls",
            "_model_module_version": "1.5.0",
            "_view_count": null,
            "_view_module_version": "1.5.0",
            "box_style": "",
            "layout": "IPY_MODEL_a1bc2f467d224f648f5ab35d8888453a",
            "_model_module": "@jupyter-widgets/controls",
            "children": [
              "IPY_MODEL_6cb5fd7f9c924d71a68cdeb66e0560e1",
              "IPY_MODEL_61d25b341d324911af514b9e48fef814"
            ]
          }
        },
        "a1bc2f467d224f648f5ab35d8888453a": {
          "model_module": "@jupyter-widgets/base",
          "model_name": "LayoutModel",
          "state": {
            "_view_name": "LayoutView",
            "grid_template_rows": null,
            "right": null,
            "justify_content": null,
            "_view_module": "@jupyter-widgets/base",
            "overflow": null,
            "_model_module_version": "1.2.0",
            "_view_count": null,
            "flex_flow": null,
            "width": null,
            "min_width": null,
            "border": null,
            "align_items": null,
            "bottom": null,
            "_model_module": "@jupyter-widgets/base",
            "top": null,
            "grid_column": null,
            "overflow_y": null,
            "overflow_x": null,
            "grid_auto_flow": null,
            "grid_area": null,
            "grid_template_columns": null,
            "flex": null,
            "_model_name": "LayoutModel",
            "justify_items": null,
            "grid_row": null,
            "max_height": null,
            "align_content": null,
            "visibility": null,
            "align_self": null,
            "height": null,
            "min_height": null,
            "padding": null,
            "grid_auto_rows": null,
            "grid_gap": null,
            "max_width": null,
            "order": null,
            "_view_module_version": "1.2.0",
            "grid_template_areas": null,
            "object_position": null,
            "object_fit": null,
            "grid_auto_columns": null,
            "margin": null,
            "display": null,
            "left": null
          }
        },
        "6cb5fd7f9c924d71a68cdeb66e0560e1": {
          "model_module": "@jupyter-widgets/controls",
          "model_name": "FloatProgressModel",
          "state": {
            "_view_name": "ProgressView",
            "style": "IPY_MODEL_8775c456dbbc485c81f3f1b12323c1ee",
            "_dom_classes": [],
            "description": "100%",
            "_model_name": "FloatProgressModel",
            "bar_style": "success",
            "max": 10100,
            "_view_module": "@jupyter-widgets/controls",
            "_model_module_version": "1.5.0",
            "value": 10100,
            "_view_count": null,
            "_view_module_version": "1.5.0",
            "orientation": "horizontal",
            "min": 0,
            "description_tooltip": null,
            "_model_module": "@jupyter-widgets/controls",
            "layout": "IPY_MODEL_0b0ac056f34c4080819202c949ecf6d9"
          }
        },
        "61d25b341d324911af514b9e48fef814": {
          "model_module": "@jupyter-widgets/controls",
          "model_name": "HTMLModel",
          "state": {
            "_view_name": "HTMLView",
            "style": "IPY_MODEL_6b1d6a127fb54c028deea694add860c9",
            "_dom_classes": [],
            "description": "",
            "_model_name": "HTMLModel",
            "placeholder": "​",
            "_view_module": "@jupyter-widgets/controls",
            "_model_module_version": "1.5.0",
            "value": " 10100/10100 [02:54&lt;00:00, 57.89it/s]",
            "_view_count": null,
            "_view_module_version": "1.5.0",
            "description_tooltip": null,
            "_model_module": "@jupyter-widgets/controls",
            "layout": "IPY_MODEL_91f4103ed66c45619aa766171d3793f2"
          }
        },
        "8775c456dbbc485c81f3f1b12323c1ee": {
          "model_module": "@jupyter-widgets/controls",
          "model_name": "ProgressStyleModel",
          "state": {
            "_view_name": "StyleView",
            "_model_name": "ProgressStyleModel",
            "description_width": "initial",
            "_view_module": "@jupyter-widgets/base",
            "_model_module_version": "1.5.0",
            "_view_count": null,
            "_view_module_version": "1.2.0",
            "bar_color": null,
            "_model_module": "@jupyter-widgets/controls"
          }
        },
        "0b0ac056f34c4080819202c949ecf6d9": {
          "model_module": "@jupyter-widgets/base",
          "model_name": "LayoutModel",
          "state": {
            "_view_name": "LayoutView",
            "grid_template_rows": null,
            "right": null,
            "justify_content": null,
            "_view_module": "@jupyter-widgets/base",
            "overflow": null,
            "_model_module_version": "1.2.0",
            "_view_count": null,
            "flex_flow": null,
            "width": null,
            "min_width": null,
            "border": null,
            "align_items": null,
            "bottom": null,
            "_model_module": "@jupyter-widgets/base",
            "top": null,
            "grid_column": null,
            "overflow_y": null,
            "overflow_x": null,
            "grid_auto_flow": null,
            "grid_area": null,
            "grid_template_columns": null,
            "flex": null,
            "_model_name": "LayoutModel",
            "justify_items": null,
            "grid_row": null,
            "max_height": null,
            "align_content": null,
            "visibility": null,
            "align_self": null,
            "height": null,
            "min_height": null,
            "padding": null,
            "grid_auto_rows": null,
            "grid_gap": null,
            "max_width": null,
            "order": null,
            "_view_module_version": "1.2.0",
            "grid_template_areas": null,
            "object_position": null,
            "object_fit": null,
            "grid_auto_columns": null,
            "margin": null,
            "display": null,
            "left": null
          }
        },
        "6b1d6a127fb54c028deea694add860c9": {
          "model_module": "@jupyter-widgets/controls",
          "model_name": "DescriptionStyleModel",
          "state": {
            "_view_name": "StyleView",
            "_model_name": "DescriptionStyleModel",
            "description_width": "",
            "_view_module": "@jupyter-widgets/base",
            "_model_module_version": "1.5.0",
            "_view_count": null,
            "_view_module_version": "1.2.0",
            "_model_module": "@jupyter-widgets/controls"
          }
        },
        "91f4103ed66c45619aa766171d3793f2": {
          "model_module": "@jupyter-widgets/base",
          "model_name": "LayoutModel",
          "state": {
            "_view_name": "LayoutView",
            "grid_template_rows": null,
            "right": null,
            "justify_content": null,
            "_view_module": "@jupyter-widgets/base",
            "overflow": null,
            "_model_module_version": "1.2.0",
            "_view_count": null,
            "flex_flow": null,
            "width": null,
            "min_width": null,
            "border": null,
            "align_items": null,
            "bottom": null,
            "_model_module": "@jupyter-widgets/base",
            "top": null,
            "grid_column": null,
            "overflow_y": null,
            "overflow_x": null,
            "grid_auto_flow": null,
            "grid_area": null,
            "grid_template_columns": null,
            "flex": null,
            "_model_name": "LayoutModel",
            "justify_items": null,
            "grid_row": null,
            "max_height": null,
            "align_content": null,
            "visibility": null,
            "align_self": null,
            "height": null,
            "min_height": null,
            "padding": null,
            "grid_auto_rows": null,
            "grid_gap": null,
            "max_width": null,
            "order": null,
            "_view_module_version": "1.2.0",
            "grid_template_areas": null,
            "object_position": null,
            "object_fit": null,
            "grid_auto_columns": null,
            "margin": null,
            "display": null,
            "left": null
          }
        },
        "17a1e950c75d48a0afeeeb6a231ff8e8": {
          "model_module": "@jupyter-widgets/controls",
          "model_name": "HBoxModel",
          "state": {
            "_view_name": "HBoxView",
            "_dom_classes": [],
            "_model_name": "HBoxModel",
            "_view_module": "@jupyter-widgets/controls",
            "_model_module_version": "1.5.0",
            "_view_count": null,
            "_view_module_version": "1.5.0",
            "box_style": "",
            "layout": "IPY_MODEL_43bea3fefca745c69f58fc8a15becd4f",
            "_model_module": "@jupyter-widgets/controls",
            "children": [
              "IPY_MODEL_d9afbb7d6e674bbc9924a2223b142ff1",
              "IPY_MODEL_73aa062e3bda48648eede60f9cff1612"
            ]
          }
        },
        "43bea3fefca745c69f58fc8a15becd4f": {
          "model_module": "@jupyter-widgets/base",
          "model_name": "LayoutModel",
          "state": {
            "_view_name": "LayoutView",
            "grid_template_rows": null,
            "right": null,
            "justify_content": null,
            "_view_module": "@jupyter-widgets/base",
            "overflow": null,
            "_model_module_version": "1.2.0",
            "_view_count": null,
            "flex_flow": null,
            "width": null,
            "min_width": null,
            "border": null,
            "align_items": null,
            "bottom": null,
            "_model_module": "@jupyter-widgets/base",
            "top": null,
            "grid_column": null,
            "overflow_y": null,
            "overflow_x": null,
            "grid_auto_flow": null,
            "grid_area": null,
            "grid_template_columns": null,
            "flex": null,
            "_model_name": "LayoutModel",
            "justify_items": null,
            "grid_row": null,
            "max_height": null,
            "align_content": null,
            "visibility": null,
            "align_self": null,
            "height": null,
            "min_height": null,
            "padding": null,
            "grid_auto_rows": null,
            "grid_gap": null,
            "max_width": null,
            "order": null,
            "_view_module_version": "1.2.0",
            "grid_template_areas": null,
            "object_position": null,
            "object_fit": null,
            "grid_auto_columns": null,
            "margin": null,
            "display": null,
            "left": null
          }
        },
        "d9afbb7d6e674bbc9924a2223b142ff1": {
          "model_module": "@jupyter-widgets/controls",
          "model_name": "FloatProgressModel",
          "state": {
            "_view_name": "ProgressView",
            "style": "IPY_MODEL_a642625759ff4c9da21ffc6c3252be41",
            "_dom_classes": [],
            "description": "100%",
            "_model_name": "FloatProgressModel",
            "bar_style": "success",
            "max": 10100,
            "_view_module": "@jupyter-widgets/controls",
            "_model_module_version": "1.5.0",
            "value": 10100,
            "_view_count": null,
            "_view_module_version": "1.5.0",
            "orientation": "horizontal",
            "min": 0,
            "description_tooltip": null,
            "_model_module": "@jupyter-widgets/controls",
            "layout": "IPY_MODEL_60d1f81bd70847b98303c991707f45b1"
          }
        },
        "73aa062e3bda48648eede60f9cff1612": {
          "model_module": "@jupyter-widgets/controls",
          "model_name": "HTMLModel",
          "state": {
            "_view_name": "HTMLView",
            "style": "IPY_MODEL_dae14933e87a429ba800db92e939777c",
            "_dom_classes": [],
            "description": "",
            "_model_name": "HTMLModel",
            "placeholder": "​",
            "_view_module": "@jupyter-widgets/controls",
            "_model_module_version": "1.5.0",
            "value": " 10100/10100 [01:21&lt;00:00, 123.67it/s]",
            "_view_count": null,
            "_view_module_version": "1.5.0",
            "description_tooltip": null,
            "_model_module": "@jupyter-widgets/controls",
            "layout": "IPY_MODEL_ff40faf6d484412a9f31d9f1c22bd34b"
          }
        },
        "a642625759ff4c9da21ffc6c3252be41": {
          "model_module": "@jupyter-widgets/controls",
          "model_name": "ProgressStyleModel",
          "state": {
            "_view_name": "StyleView",
            "_model_name": "ProgressStyleModel",
            "description_width": "initial",
            "_view_module": "@jupyter-widgets/base",
            "_model_module_version": "1.5.0",
            "_view_count": null,
            "_view_module_version": "1.2.0",
            "bar_color": null,
            "_model_module": "@jupyter-widgets/controls"
          }
        },
        "60d1f81bd70847b98303c991707f45b1": {
          "model_module": "@jupyter-widgets/base",
          "model_name": "LayoutModel",
          "state": {
            "_view_name": "LayoutView",
            "grid_template_rows": null,
            "right": null,
            "justify_content": null,
            "_view_module": "@jupyter-widgets/base",
            "overflow": null,
            "_model_module_version": "1.2.0",
            "_view_count": null,
            "flex_flow": null,
            "width": null,
            "min_width": null,
            "border": null,
            "align_items": null,
            "bottom": null,
            "_model_module": "@jupyter-widgets/base",
            "top": null,
            "grid_column": null,
            "overflow_y": null,
            "overflow_x": null,
            "grid_auto_flow": null,
            "grid_area": null,
            "grid_template_columns": null,
            "flex": null,
            "_model_name": "LayoutModel",
            "justify_items": null,
            "grid_row": null,
            "max_height": null,
            "align_content": null,
            "visibility": null,
            "align_self": null,
            "height": null,
            "min_height": null,
            "padding": null,
            "grid_auto_rows": null,
            "grid_gap": null,
            "max_width": null,
            "order": null,
            "_view_module_version": "1.2.0",
            "grid_template_areas": null,
            "object_position": null,
            "object_fit": null,
            "grid_auto_columns": null,
            "margin": null,
            "display": null,
            "left": null
          }
        },
        "dae14933e87a429ba800db92e939777c": {
          "model_module": "@jupyter-widgets/controls",
          "model_name": "DescriptionStyleModel",
          "state": {
            "_view_name": "StyleView",
            "_model_name": "DescriptionStyleModel",
            "description_width": "",
            "_view_module": "@jupyter-widgets/base",
            "_model_module_version": "1.5.0",
            "_view_count": null,
            "_view_module_version": "1.2.0",
            "_model_module": "@jupyter-widgets/controls"
          }
        },
        "ff40faf6d484412a9f31d9f1c22bd34b": {
          "model_module": "@jupyter-widgets/base",
          "model_name": "LayoutModel",
          "state": {
            "_view_name": "LayoutView",
            "grid_template_rows": null,
            "right": null,
            "justify_content": null,
            "_view_module": "@jupyter-widgets/base",
            "overflow": null,
            "_model_module_version": "1.2.0",
            "_view_count": null,
            "flex_flow": null,
            "width": null,
            "min_width": null,
            "border": null,
            "align_items": null,
            "bottom": null,
            "_model_module": "@jupyter-widgets/base",
            "top": null,
            "grid_column": null,
            "overflow_y": null,
            "overflow_x": null,
            "grid_auto_flow": null,
            "grid_area": null,
            "grid_template_columns": null,
            "flex": null,
            "_model_name": "LayoutModel",
            "justify_items": null,
            "grid_row": null,
            "max_height": null,
            "align_content": null,
            "visibility": null,
            "align_self": null,
            "height": null,
            "min_height": null,
            "padding": null,
            "grid_auto_rows": null,
            "grid_gap": null,
            "max_width": null,
            "order": null,
            "_view_module_version": "1.2.0",
            "grid_template_areas": null,
            "object_position": null,
            "object_fit": null,
            "grid_auto_columns": null,
            "margin": null,
            "display": null,
            "left": null
          }
        },
        "65aa2a651d494293b1700d04dfd9d213": {
          "model_module": "@jupyter-widgets/controls",
          "model_name": "HBoxModel",
          "state": {
            "_view_name": "HBoxView",
            "_dom_classes": [],
            "_model_name": "HBoxModel",
            "_view_module": "@jupyter-widgets/controls",
            "_model_module_version": "1.5.0",
            "_view_count": null,
            "_view_module_version": "1.5.0",
            "box_style": "",
            "layout": "IPY_MODEL_52280e68da564f3a929a2fd1ce89871f",
            "_model_module": "@jupyter-widgets/controls",
            "children": [
              "IPY_MODEL_84e0dded105e4ff692c8cd49b6e80878",
              "IPY_MODEL_041c44e5996b454aacfd340c836a5fd4"
            ]
          }
        },
        "52280e68da564f3a929a2fd1ce89871f": {
          "model_module": "@jupyter-widgets/base",
          "model_name": "LayoutModel",
          "state": {
            "_view_name": "LayoutView",
            "grid_template_rows": null,
            "right": null,
            "justify_content": null,
            "_view_module": "@jupyter-widgets/base",
            "overflow": null,
            "_model_module_version": "1.2.0",
            "_view_count": null,
            "flex_flow": null,
            "width": null,
            "min_width": null,
            "border": null,
            "align_items": null,
            "bottom": null,
            "_model_module": "@jupyter-widgets/base",
            "top": null,
            "grid_column": null,
            "overflow_y": null,
            "overflow_x": null,
            "grid_auto_flow": null,
            "grid_area": null,
            "grid_template_columns": null,
            "flex": null,
            "_model_name": "LayoutModel",
            "justify_items": null,
            "grid_row": null,
            "max_height": null,
            "align_content": null,
            "visibility": null,
            "align_self": null,
            "height": null,
            "min_height": null,
            "padding": null,
            "grid_auto_rows": null,
            "grid_gap": null,
            "max_width": null,
            "order": null,
            "_view_module_version": "1.2.0",
            "grid_template_areas": null,
            "object_position": null,
            "object_fit": null,
            "grid_auto_columns": null,
            "margin": null,
            "display": null,
            "left": null
          }
        },
        "84e0dded105e4ff692c8cd49b6e80878": {
          "model_module": "@jupyter-widgets/controls",
          "model_name": "FloatProgressModel",
          "state": {
            "_view_name": "ProgressView",
            "style": "IPY_MODEL_126016ad077e4afea6993c180936dc3c",
            "_dom_classes": [],
            "description": "100%",
            "_model_name": "FloatProgressModel",
            "bar_style": "success",
            "max": 2791,
            "_view_module": "@jupyter-widgets/controls",
            "_model_module_version": "1.5.0",
            "value": 2791,
            "_view_count": null,
            "_view_module_version": "1.5.0",
            "orientation": "horizontal",
            "min": 0,
            "description_tooltip": null,
            "_model_module": "@jupyter-widgets/controls",
            "layout": "IPY_MODEL_9979fe3db44943bf8e07bfcefe9b379d"
          }
        },
        "041c44e5996b454aacfd340c836a5fd4": {
          "model_module": "@jupyter-widgets/controls",
          "model_name": "HTMLModel",
          "state": {
            "_view_name": "HTMLView",
            "style": "IPY_MODEL_b8934f297e0b4780a65878dee7a14a68",
            "_dom_classes": [],
            "description": "",
            "_model_name": "HTMLModel",
            "placeholder": "​",
            "_view_module": "@jupyter-widgets/controls",
            "_model_module_version": "1.5.0",
            "value": " 2791/2791 [00:10&lt;00:00, 270.33it/s]",
            "_view_count": null,
            "_view_module_version": "1.5.0",
            "description_tooltip": null,
            "_model_module": "@jupyter-widgets/controls",
            "layout": "IPY_MODEL_a2fa46c2e90c4088a045b77f8b2acba9"
          }
        },
        "126016ad077e4afea6993c180936dc3c": {
          "model_module": "@jupyter-widgets/controls",
          "model_name": "ProgressStyleModel",
          "state": {
            "_view_name": "StyleView",
            "_model_name": "ProgressStyleModel",
            "description_width": "initial",
            "_view_module": "@jupyter-widgets/base",
            "_model_module_version": "1.5.0",
            "_view_count": null,
            "_view_module_version": "1.2.0",
            "bar_color": null,
            "_model_module": "@jupyter-widgets/controls"
          }
        },
        "9979fe3db44943bf8e07bfcefe9b379d": {
          "model_module": "@jupyter-widgets/base",
          "model_name": "LayoutModel",
          "state": {
            "_view_name": "LayoutView",
            "grid_template_rows": null,
            "right": null,
            "justify_content": null,
            "_view_module": "@jupyter-widgets/base",
            "overflow": null,
            "_model_module_version": "1.2.0",
            "_view_count": null,
            "flex_flow": null,
            "width": null,
            "min_width": null,
            "border": null,
            "align_items": null,
            "bottom": null,
            "_model_module": "@jupyter-widgets/base",
            "top": null,
            "grid_column": null,
            "overflow_y": null,
            "overflow_x": null,
            "grid_auto_flow": null,
            "grid_area": null,
            "grid_template_columns": null,
            "flex": null,
            "_model_name": "LayoutModel",
            "justify_items": null,
            "grid_row": null,
            "max_height": null,
            "align_content": null,
            "visibility": null,
            "align_self": null,
            "height": null,
            "min_height": null,
            "padding": null,
            "grid_auto_rows": null,
            "grid_gap": null,
            "max_width": null,
            "order": null,
            "_view_module_version": "1.2.0",
            "grid_template_areas": null,
            "object_position": null,
            "object_fit": null,
            "grid_auto_columns": null,
            "margin": null,
            "display": null,
            "left": null
          }
        },
        "b8934f297e0b4780a65878dee7a14a68": {
          "model_module": "@jupyter-widgets/controls",
          "model_name": "DescriptionStyleModel",
          "state": {
            "_view_name": "StyleView",
            "_model_name": "DescriptionStyleModel",
            "description_width": "",
            "_view_module": "@jupyter-widgets/base",
            "_model_module_version": "1.5.0",
            "_view_count": null,
            "_view_module_version": "1.2.0",
            "_model_module": "@jupyter-widgets/controls"
          }
        },
        "a2fa46c2e90c4088a045b77f8b2acba9": {
          "model_module": "@jupyter-widgets/base",
          "model_name": "LayoutModel",
          "state": {
            "_view_name": "LayoutView",
            "grid_template_rows": null,
            "right": null,
            "justify_content": null,
            "_view_module": "@jupyter-widgets/base",
            "overflow": null,
            "_model_module_version": "1.2.0",
            "_view_count": null,
            "flex_flow": null,
            "width": null,
            "min_width": null,
            "border": null,
            "align_items": null,
            "bottom": null,
            "_model_module": "@jupyter-widgets/base",
            "top": null,
            "grid_column": null,
            "overflow_y": null,
            "overflow_x": null,
            "grid_auto_flow": null,
            "grid_area": null,
            "grid_template_columns": null,
            "flex": null,
            "_model_name": "LayoutModel",
            "justify_items": null,
            "grid_row": null,
            "max_height": null,
            "align_content": null,
            "visibility": null,
            "align_self": null,
            "height": null,
            "min_height": null,
            "padding": null,
            "grid_auto_rows": null,
            "grid_gap": null,
            "max_width": null,
            "order": null,
            "_view_module_version": "1.2.0",
            "grid_template_areas": null,
            "object_position": null,
            "object_fit": null,
            "grid_auto_columns": null,
            "margin": null,
            "display": null,
            "left": null
          }
        }
      }
    }
  },
  "cells": [
    {
      "cell_type": "markdown",
      "metadata": {
        "id": "s0Ej_bXyQvnV"
      },
      "source": [
        "# Compute performance metrics for the given Y and Y_score without sklearn"
      ]
    },
    {
      "cell_type": "markdown",
      "metadata": {
        "id": "u-PxVQ0y-w4M"
      },
      "source": [
        "# Task-A"
      ]
    },
    {
      "cell_type": "code",
      "metadata": {
        "id": "4CHb6NE7Qvnc"
      },
      "source": [
        "import numpy as np\n",
        "import pandas as pd\n",
        "from tqdm.notebook import tqdm\n",
        "# other than these two you should not import any other packages"
      ],
      "execution_count": null,
      "outputs": []
    },
    {
      "cell_type": "markdown",
      "metadata": {
        "id": "KbsWXuDaQvnq"
      },
      "source": [
        "<pre>\n",
        "<font color='red'><b>A.</b></font> Compute performance metrics for the given data <strong>5_a.csv</strong>\n",
        "   <b>Note 1:</b> in this data you can see number of positive points >> number of negatives points\n",
        "   <b>Note 2:</b> use pandas or numpy to read the data from <b>5_a.csv</b>\n",
        "   <b>Note 3:</b> you need to derive the class labels from given score</pre> $y^{pred}= \\text{[0 if y_score < 0.5 else 1]}$\n",
        "\n",
        "<pre>\n",
        "<ol>\n",
        "<li> Compute Confusion Matrix </li>\n",
        "<li> Compute F1 Score </li>\n",
        "<li> Compute AUC Score, you need to compute different thresholds and for each threshold compute tpr,fpr and then use               numpy.trapz(tpr_array, fpr_array) <a href='https://stackoverflow.com/q/53603376/4084039'>https://stackoverflow.com/q/53603376/4084039</a>, <a href='https://stackoverflow.com/a/39678975/4084039'>https://stackoverflow.com/a/39678975/4084039</a> Note: it should be numpy.trapz(tpr_array, fpr_array) not numpy.trapz(fpr_array, tpr_array)</li>\n",
        "<li> Compute Accuracy Score </li>\n",
        "</ol>\n",
        "</pre>"
      ]
    },
    {
      "cell_type": "code",
      "metadata": {
        "id": "l2BeUdJeau_Q",
        "colab": {
          "base_uri": "https://localhost:8080/"
        },
        "outputId": "9b844309-447b-4268-a4e0-b3d86abe0b8f"
      },
      "source": [
        "# mount google drive\n",
        "from google.colab import drive\n",
        "drive.mount('/gdrive')\n"
      ],
      "execution_count": null,
      "outputs": [
        {
          "output_type": "stream",
          "text": [
            "Drive already mounted at /gdrive; to attempt to forcibly remount, call drive.mount(\"/gdrive\", force_remount=True).\n"
          ],
          "name": "stdout"
        }
      ]
    },
    {
      "cell_type": "code",
      "metadata": {
        "id": "Yh9Dg9qFdNoS"
      },
      "source": [
        "# reading the data for task -A\n",
        "data = pd.read_csv('/gdrive/My Drive/7_Compute Performance metrics without Sklearn/5_a.csv')\n"
      ],
      "execution_count": null,
      "outputs": []
    },
    {
      "cell_type": "code",
      "metadata": {
        "colab": {
          "base_uri": "https://localhost:8080/",
          "height": 204
        },
        "id": "GBFV8g-N6gDR",
        "outputId": "17bc2520-1ac2-4c63-acb0-7e08264151a2"
      },
      "source": [
        "data.head()"
      ],
      "execution_count": null,
      "outputs": [
        {
          "output_type": "execute_result",
          "data": {
            "text/html": [
              "<div>\n",
              "<style scoped>\n",
              "    .dataframe tbody tr th:only-of-type {\n",
              "        vertical-align: middle;\n",
              "    }\n",
              "\n",
              "    .dataframe tbody tr th {\n",
              "        vertical-align: top;\n",
              "    }\n",
              "\n",
              "    .dataframe thead th {\n",
              "        text-align: right;\n",
              "    }\n",
              "</style>\n",
              "<table border=\"1\" class=\"dataframe\">\n",
              "  <thead>\n",
              "    <tr style=\"text-align: right;\">\n",
              "      <th></th>\n",
              "      <th>y</th>\n",
              "      <th>proba</th>\n",
              "    </tr>\n",
              "  </thead>\n",
              "  <tbody>\n",
              "    <tr>\n",
              "      <th>0</th>\n",
              "      <td>1.0</td>\n",
              "      <td>0.637387</td>\n",
              "    </tr>\n",
              "    <tr>\n",
              "      <th>1</th>\n",
              "      <td>1.0</td>\n",
              "      <td>0.635165</td>\n",
              "    </tr>\n",
              "    <tr>\n",
              "      <th>2</th>\n",
              "      <td>1.0</td>\n",
              "      <td>0.766586</td>\n",
              "    </tr>\n",
              "    <tr>\n",
              "      <th>3</th>\n",
              "      <td>1.0</td>\n",
              "      <td>0.724564</td>\n",
              "    </tr>\n",
              "    <tr>\n",
              "      <th>4</th>\n",
              "      <td>1.0</td>\n",
              "      <td>0.889199</td>\n",
              "    </tr>\n",
              "  </tbody>\n",
              "</table>\n",
              "</div>"
            ],
            "text/plain": [
              "     y     proba\n",
              "0  1.0  0.637387\n",
              "1  1.0  0.635165\n",
              "2  1.0  0.766586\n",
              "3  1.0  0.724564\n",
              "4  1.0  0.889199"
            ]
          },
          "metadata": {
            "tags": []
          },
          "execution_count": 4
        }
      ]
    },
    {
      "cell_type": "code",
      "metadata": {
        "colab": {
          "base_uri": "https://localhost:8080/"
        },
        "id": "WlXVvaViluVX",
        "outputId": "e2ceef10-eae6-4a16-a414-0e7d2806910b"
      },
      "source": [
        "# distinct value counts of target column\n",
        "data['y'].value_counts()"
      ],
      "execution_count": null,
      "outputs": [
        {
          "output_type": "execute_result",
          "data": {
            "text/plain": [
              "1.0    10000\n",
              "0.0      100\n",
              "Name: y, dtype: int64"
            ]
          },
          "metadata": {
            "tags": []
          },
          "execution_count": 5
        }
      ]
    },
    {
      "cell_type": "code",
      "metadata": {
        "colab": {
          "base_uri": "https://localhost:8080/"
        },
        "id": "OHJjw0899CFA",
        "outputId": "47b657bf-4bfb-4d70-c149-c4a416931e6f"
      },
      "source": [
        "# How many datapoints have probability values less than 0.5?\n",
        "len(data[data['proba']<0.5])"
      ],
      "execution_count": null,
      "outputs": [
        {
          "output_type": "execute_result",
          "data": {
            "text/plain": [
              "0"
            ]
          },
          "metadata": {
            "tags": []
          },
          "execution_count": 6
        }
      ]
    },
    {
      "cell_type": "markdown",
      "metadata": {
        "id": "UIbCSR6S9Ibe"
      },
      "source": [
        "### Observations:\n",
        "1. `proba column has zero data points less than 0.5 in data.`"
      ]
    },
    {
      "cell_type": "code",
      "metadata": {
        "id": "7gUkxpce0yZZ",
        "colab": {
          "base_uri": "https://localhost:8080/"
        },
        "outputId": "ab2e2ac1-effc-4d3c-868a-06f9b0a17335"
      },
      "source": [
        "# adding new column as \"predicted\" with default values\n",
        "data['predicted']=1\n",
        "#  Replacing predicted column value by using proba column values based on given condition.\n",
        "# -- https://pythonexamples.org/pandas-dataframe-replace-values-in-column-based-on-condition/\n",
        "\n",
        "data.loc[(data['proba']<0.5),'predicted']=0\n",
        "# unique value counts after applying condition\n",
        "print(data['predicted'].value_counts())"
      ],
      "execution_count": null,
      "outputs": [
        {
          "output_type": "stream",
          "text": [
            "1    10100\n",
            "Name: predicted, dtype: int64\n"
          ],
          "name": "stdout"
        }
      ]
    },
    {
      "cell_type": "markdown",
      "metadata": {
        "id": "bZ5rsmVOnl_s"
      },
      "source": [
        "### Observations:\n",
        "1. `actual -y `: value_counts :- \n",
        "      \n",
        "       +ve: 10000\n",
        "       -ve:   100\n",
        "2. `predicted` : value_counts :-\n",
        "\n",
        "        +ve: 10100\n",
        "        -ve:     0"
      ]
    },
    {
      "cell_type": "markdown",
      "metadata": {
        "id": "NP6LUsb28o96"
      },
      "source": [
        "### 1.Confusion Matrix"
      ]
    },
    {
      "cell_type": "code",
      "metadata": {
        "id": "n_-EPFWjwhjF"
      },
      "source": [
        "# definition of confusion matrix:\n",
        "def confusionMatrix(y,predicted):\n",
        "    tp=tn=fp=fn=0;          # initializing truepostive,truenegative,falsepositive,falsenegative\n",
        "\n",
        "    # stacking columns 'y' and 'predicted' to get combinations of [ 1,1 ],[ 0,1 ],[ 1,0 ],[ 0,0 ],  like in logic gates(inputs to truth table).\n",
        "    ''' Ex:\n",
        "     >>>a = np.array((1,0,1,1))\n",
        "     >>>b = np.array((1,1,0,1))\n",
        "     >>>np.dstack((a,b))\n",
        "     array([[[1, 1],\n",
        "             [0, 1],\n",
        "             [1, 0],\n",
        "             [1, 1]]])\n",
        "    '''\n",
        "    # and then getting count of each type of combinations.\n",
        "\n",
        "    # TP: if both actual and predicted is positive        [ 1,1 ]\n",
        "    # FP: if actual is negative and predicted as positive [ 0,1 ]\n",
        "    # FN: if actual is positive and predicted in negative [ 1,0 ]\n",
        "    # TN: if both actual and predicted is negative        [ 0,0 ]\n",
        "\n",
        "    # https://numpy.org/doc/stable/reference/generated/numpy.dstack.html \n",
        "\n",
        "    nd_array = np.dstack((y,predicted))          \n",
        "    comb_count= np.unique(nd_array[0],axis=0,return_counts=True)  \n",
        "   \n",
        "    for each in range(len(comb_count[0])):\n",
        "      if (list(comb_count[0][each])==[0.0,1.0]):\n",
        "        fp = comb_count[1][each]\n",
        "      elif (list(comb_count[0][each])==[0.0,0.0]):\n",
        "        tn = comb_count[1][each]\n",
        "      elif (list(comb_count[0][each])==[1.0,0.0]):\n",
        "        fn = comb_count[1][each]\n",
        "      elif (list(comb_count[0][each])==[1.0,1.0]):\n",
        "        tp = comb_count[1][each]\n",
        "\n",
        "    return tn,fp,fn,tp\n"
      ],
      "execution_count": null,
      "outputs": []
    },
    {
      "cell_type": "code",
      "metadata": {
        "colab": {
          "base_uri": "https://localhost:8080/"
        },
        "id": "Ajti7wnW7K3o",
        "outputId": "973a8a94-2daf-45b7-e11e-6ced912e4ddf"
      },
      "source": [
        "# inputs for confusion matrix\n",
        "y = np.array(data['y'])\n",
        "predicted = np.array(data['predicted'])\n",
        "\n",
        "# result:\n",
        "tn,fp,fn,tp= confusionMatrix(y,predicted)\n",
        "print(\" True neg  = {} \\n False pos = {} \\n False neg = {} \\n True pos  = {} \".format(tn, fp, fn, tp ))"
      ],
      "execution_count": null,
      "outputs": [
        {
          "output_type": "stream",
          "text": [
            " True neg  = 0 \n",
            " False pos = 100 \n",
            " False neg = 0 \n",
            " True pos  = 10000 \n"
          ],
          "name": "stdout"
        }
      ]
    },
    {
      "cell_type": "markdown",
      "metadata": {
        "id": "acJMpGPo8wat"
      },
      "source": [
        "### 2.F1_Score:"
      ]
    },
    {
      "cell_type": "code",
      "metadata": {
        "id": "NukXxAxn63kX"
      },
      "source": [
        "# function to find f1-score:\n",
        "def f1Score(y,predicted):\n",
        "  tn,fp,fn,tp= confusionMatrix(y,predicted)\n",
        "  pre = (tp/(tp+fp))\n",
        "  rec = (tp/(tp+fn))\n",
        "  return 2*((pre*rec)/(pre+rec))"
      ],
      "execution_count": null,
      "outputs": []
    },
    {
      "cell_type": "code",
      "metadata": {
        "id": "Kuz4K78m9vGg",
        "colab": {
          "base_uri": "https://localhost:8080/"
        },
        "outputId": "f83c088f-af55-4702-9a35-7244e6bcad64"
      },
      "source": [
        "print(\"F1_score = \",f1Score(y,predicted))"
      ],
      "execution_count": null,
      "outputs": [
        {
          "output_type": "stream",
          "text": [
            "F1_score =  0.9950248756218906\n"
          ],
          "name": "stdout"
        }
      ]
    },
    {
      "cell_type": "markdown",
      "metadata": {
        "id": "z8RWKZVSALcA"
      },
      "source": [
        "### Observations:\n",
        "1. F1-score (measure of model's accuracy) : `high` \n",
        "because precision and recall are majorly works on `true positive` and here in this dataset most of the points are positive.\n"
      ]
    },
    {
      "cell_type": "markdown",
      "metadata": {
        "id": "D8tNbVED9BD-"
      },
      "source": [
        "### roc Curve"
      ]
    },
    {
      "cell_type": "code",
      "metadata": {
        "id": "QGJT2g9eDSiV"
      },
      "source": [
        "def rocCurve(y,scores):\n",
        "\n",
        "  # lists to store tpr and fpr values for each threshold\n",
        "  tpr_array = []         \n",
        "  fpr_array = []      \n",
        "\n",
        "  # getting unique probability scores in decreasing order.                 \n",
        "  probabilities = sorted(np.unique(scores),reverse=True)\n",
        "  # creating dataframe with y and corresponding scores\n",
        "  df = pd.DataFrame({'y':y,'proba':scores})\n",
        "\n",
        "\n",
        "  # for each probability as threshold, calculating its tpr,fpr to finally get area under curve.\n",
        "  for each in tqdm(range(len(probabilities))):\n",
        "\n",
        "    threshold = probabilities[each]\n",
        "    # adding 'predicted' column to dataframe by default value = 1 and changing with predicting values\n",
        "    # by applying each probability value as threshold and calculating its tpr and fpr\n",
        "\n",
        "    df['predicted']=1\n",
        "    df.loc[(df['proba']<threshold),'predicted']=0\n",
        "    predicted = np.array(df['predicted'])\n",
        "    \n",
        "    # confusion Matrix result\n",
        "    tn,fp,fn,tp=confusionMatrix(y,predicted)\n",
        "\n",
        "    tpr = (tp/(tp+fn))\n",
        "    fpr= (fp/(tn+fp))\n",
        "\n",
        "    tpr_array.append(tpr)\n",
        "    fpr_array.append(fpr)\n",
        "\n",
        "  return fpr_array,tpr_array\n"
      ],
      "execution_count": null,
      "outputs": []
    },
    {
      "cell_type": "code",
      "metadata": {
        "id": "FZVMPGImtkkp",
        "colab": {
          "base_uri": "https://localhost:8080/",
          "height": 66,
          "referenced_widgets": [
            "d55763273a3e44d58cd0f0adc75f1ca6",
            "a1bc2f467d224f648f5ab35d8888453a",
            "6cb5fd7f9c924d71a68cdeb66e0560e1",
            "61d25b341d324911af514b9e48fef814",
            "8775c456dbbc485c81f3f1b12323c1ee",
            "0b0ac056f34c4080819202c949ecf6d9",
            "6b1d6a127fb54c028deea694add860c9",
            "91f4103ed66c45619aa766171d3793f2"
          ]
        },
        "outputId": "d53d80a1-a7e6-473f-e955-663c5daec03e"
      },
      "source": [
        "# inputs for areaUnderCurve\n",
        "y = np.array(data['y'])\n",
        "scores = np.array(data['proba'])\n",
        "# result:\n",
        "fpr,tpr= rocCurve(y,scores)\n"
      ],
      "execution_count": null,
      "outputs": [
        {
          "output_type": "display_data",
          "data": {
            "application/vnd.jupyter.widget-view+json": {
              "model_id": "d55763273a3e44d58cd0f0adc75f1ca6",
              "version_minor": 0,
              "version_major": 2
            },
            "text/plain": [
              "HBox(children=(FloatProgress(value=0.0, max=10100.0), HTML(value='')))"
            ]
          },
          "metadata": {
            "tags": []
          }
        },
        {
          "output_type": "stream",
          "text": [
            "\n"
          ],
          "name": "stdout"
        }
      ]
    },
    {
      "cell_type": "markdown",
      "metadata": {
        "id": "fkE96P2ODnv6"
      },
      "source": [
        "### 3.Area under curve"
      ]
    },
    {
      "cell_type": "code",
      "metadata": {
        "colab": {
          "base_uri": "https://localhost:8080/"
        },
        "id": "Hq9qt32nBI1l",
        "outputId": "2ecc029b-82a8-45c8-c688-7097541e034d"
      },
      "source": [
        "# area under curve :\n",
        "print(\"Area under curve = \",np.trapz(np.array(tpr),np.array(fpr)))"
      ],
      "execution_count": null,
      "outputs": [
        {
          "output_type": "stream",
          "text": [
            "Area under curve =  0.48829900000000004\n"
          ],
          "name": "stdout"
        }
      ]
    },
    {
      "cell_type": "markdown",
      "metadata": {
        "id": "OdkveA-USqzA"
      },
      "source": [
        "### Observations:\n",
        "1. tpr is increasing slowly with increasing fpr, which give less `area under curve`\n",
        "2. iniatially one row having highest threshold ( which is highest ) has  \n",
        "   predicted value ==1 and rest all rows are zero's `(gives tpr closes to '0'\n",
        "   (tp=1,fn=high) and fpr also closed to '0'(fp=0,tn=high))`\n",
        "3. finally all are one's except the row's which are less than the last\n",
        "   threshold value `(gives tpr ==1(tp=high,fn=0) and fpr ==1(fp=high,tn=0))`"
      ]
    },
    {
      "cell_type": "markdown",
      "metadata": {
        "id": "ahKQcRAC9KX_"
      },
      "source": [
        "### 4.Accuracy Score"
      ]
    },
    {
      "cell_type": "code",
      "metadata": {
        "id": "YwU5CgOF844c",
        "colab": {
          "base_uri": "https://localhost:8080/"
        },
        "outputId": "9ef50f77-ee7f-42c3-b897-77fc094618fe"
      },
      "source": [
        "# funtion to find accuracy score\n",
        "def accuracyScore(y,predicted):\n",
        "  tn,fp,fn,tp= confusionMatrix(y,predicted)\n",
        "  return ((tn+tp)/(tn+tp+fn+fp))\n",
        "\n",
        "# accuracy score\n",
        "print(\"Accuracy score = \",accuracyScore(y,predicted))"
      ],
      "execution_count": null,
      "outputs": [
        {
          "output_type": "stream",
          "text": [
            "Accuracy score =  0.9900990099009901\n"
          ],
          "name": "stdout"
        }
      ]
    },
    {
      "cell_type": "markdown",
      "metadata": {
        "id": "0g_F9Z2bCYex"
      },
      "source": [
        "# Task-B"
      ]
    },
    {
      "cell_type": "markdown",
      "metadata": {
        "id": "V5KZem1BQvn2"
      },
      "source": [
        "<pre>\n",
        "<font color='red'><b>B.</b></font> Compute performance metrics for the given data <strong>5_b.csv</strong>\n",
        "   <b>Note 1:</b> in this data you can see number of positive points << number of negatives points\n",
        "   <b>Note 2:</b> use pandas or numpy to read the data from <b>5_b.csv</b>\n",
        "   <b>Note 3:</b> you need to derive the class labels from given score</pre> $y^{pred}= \\text{[0 if y_score < 0.5 else 1]}$\n",
        "\n",
        "<pre>\n",
        "<ol>\n",
        "<li> Compute Confusion Matrix </li>\n",
        "<li> Compute F1 Score </li>\n",
        "<li> Compute AUC Score, you need to compute different thresholds and for each threshold compute tpr,fpr and then use               numpy.trapz(tpr_array, fpr_array) <a href='https://stackoverflow.com/q/53603376/4084039'>https://stackoverflow.com/q/53603376/4084039</a>, <a href='https://stackoverflow.com/a/39678975/4084039'>https://stackoverflow.com/a/39678975/4084039</a></li>\n",
        "<li> Compute Accuracy Score </li>\n",
        "</ol>\n",
        "</pre>"
      ]
    },
    {
      "cell_type": "code",
      "metadata": {
        "id": "U2sKlq0YQvn5"
      },
      "source": [
        "# read task-b data.\n",
        "data2 = pd.read_csv('/gdrive/My Drive/7_Compute Performance metrics without Sklearn/5_b.csv')"
      ],
      "execution_count": null,
      "outputs": []
    },
    {
      "cell_type": "code",
      "metadata": {
        "id": "NlGUC9mjBLK0",
        "colab": {
          "base_uri": "https://localhost:8080/"
        },
        "outputId": "e737660b-1d2e-4940-9e24-cea2c7630db8"
      },
      "source": [
        "data2['y'].value_counts()"
      ],
      "execution_count": null,
      "outputs": [
        {
          "output_type": "execute_result",
          "data": {
            "text/plain": [
              "0.0    10000\n",
              "1.0      100\n",
              "Name: y, dtype: int64"
            ]
          },
          "metadata": {
            "tags": []
          },
          "execution_count": 18
        }
      ]
    },
    {
      "cell_type": "code",
      "metadata": {
        "colab": {
          "base_uri": "https://localhost:8080/"
        },
        "id": "kNbZ_T4hitSl",
        "outputId": "2dc0eb58-2a82-4880-ff6f-8a66f2fe3223"
      },
      "source": [
        "# How many datapoints have probability values less than 0.5?\n",
        "len(data2[data['proba']<0.5])"
      ],
      "execution_count": null,
      "outputs": [
        {
          "output_type": "execute_result",
          "data": {
            "text/plain": [
              "0"
            ]
          },
          "metadata": {
            "tags": []
          },
          "execution_count": 19
        }
      ]
    },
    {
      "cell_type": "code",
      "metadata": {
        "colab": {
          "base_uri": "https://localhost:8080/"
        },
        "id": "5g9MovScjBHy",
        "outputId": "0b17d890-3d4d-4824-924e-0b08c0e4116b"
      },
      "source": [
        "# adding new column as \"predicted\" with default values\n",
        "data2['predicted']=1\n",
        "#  Replacing predicted column value by using proba column values based on given condition.\n",
        "# -- https://pythonexamples.org/pandas-dataframe-replace-values-in-column-based-on-condition/\n",
        "\n",
        "data2.loc[(data2['proba']<0.5),'predicted']=0\n",
        "# unique value counts after applying condition\n",
        "print(data2['predicted'].value_counts())"
      ],
      "execution_count": null,
      "outputs": [
        {
          "output_type": "stream",
          "text": [
            "0    9806\n",
            "1     294\n",
            "Name: predicted, dtype: int64\n"
          ],
          "name": "stdout"
        }
      ]
    },
    {
      "cell_type": "markdown",
      "metadata": {
        "id": "EHRIVNuAClzA"
      },
      "source": [
        "### Observations:\n",
        "1. `actual -y `: value_counts :- \n",
        "      \n",
        "       +ve:   100\n",
        "       -ve: 10000\n",
        "2. `predicted` : value_counts :-\n",
        "\n",
        "        +ve:   294\n",
        "        -ve:  9806"
      ]
    },
    {
      "cell_type": "markdown",
      "metadata": {
        "id": "NAcOtrVYr3WN"
      },
      "source": [
        "### 1. Confusion Matrix"
      ]
    },
    {
      "cell_type": "code",
      "metadata": {
        "colab": {
          "base_uri": "https://localhost:8080/"
        },
        "id": "_Aa__BOArsfg",
        "outputId": "5e619d1c-b313-4e85-b75d-5d7ef3bae396"
      },
      "source": [
        "# inputs for confusion matrix and rocCurve\n",
        "y = np.array(data2['y'])\n",
        "predicted = np.array(data2['predicted'])\n",
        "\n",
        "# result:\n",
        "tn,fp,fn,tp= confusionMatrix(y,predicted)\n",
        "print(\" True neg  = {} \\n False pos = {} \\n False neg = {} \\n True pos  = {} \".format(tn, fp, fn, tp ))"
      ],
      "execution_count": null,
      "outputs": [
        {
          "output_type": "stream",
          "text": [
            " True neg  = 9761 \n",
            " False pos = 239 \n",
            " False neg = 45 \n",
            " True pos  = 55 \n"
          ],
          "name": "stdout"
        }
      ]
    },
    {
      "cell_type": "markdown",
      "metadata": {
        "id": "EBt3qaDEsLaC"
      },
      "source": [
        "### 2. F1-score:"
      ]
    },
    {
      "cell_type": "code",
      "metadata": {
        "id": "1ftGM4cYweY8",
        "colab": {
          "base_uri": "https://localhost:8080/"
        },
        "outputId": "fec5812f-351a-4f39-cb93-92e10d4d4fd9"
      },
      "source": [
        "print(\"F1_score = \",f1Score(y,predicted))"
      ],
      "execution_count": null,
      "outputs": [
        {
          "output_type": "stream",
          "text": [
            "F1_score =  0.2791878172588833\n"
          ],
          "name": "stdout"
        }
      ]
    },
    {
      "cell_type": "markdown",
      "metadata": {
        "id": "NumYk83pOuPT"
      },
      "source": [
        "### Observations:\n",
        "1. f1_score is `less`,\n",
        " due to precision and recall is less ( which majorly works `True positive` and here in this dataset most of the points are negative)"
      ]
    },
    {
      "cell_type": "markdown",
      "metadata": {
        "id": "KL_c3shlsvx3"
      },
      "source": [
        "### 3.Auc"
      ]
    },
    {
      "cell_type": "code",
      "metadata": {
        "id": "JBhXgcNttgy_"
      },
      "source": [
        "# inputs for rocCurve\n",
        "y = np.array(data2['y'])\n",
        "scores = np.array(data2['proba'])"
      ],
      "execution_count": null,
      "outputs": []
    },
    {
      "cell_type": "code",
      "metadata": {
        "id": "P1Al-BIA2vjK",
        "colab": {
          "base_uri": "https://localhost:8080/",
          "height": 66,
          "referenced_widgets": [
            "17a1e950c75d48a0afeeeb6a231ff8e8",
            "43bea3fefca745c69f58fc8a15becd4f",
            "d9afbb7d6e674bbc9924a2223b142ff1",
            "73aa062e3bda48648eede60f9cff1612",
            "a642625759ff4c9da21ffc6c3252be41",
            "60d1f81bd70847b98303c991707f45b1",
            "dae14933e87a429ba800db92e939777c",
            "ff40faf6d484412a9f31d9f1c22bd34b"
          ]
        },
        "outputId": "4c622680-dc08-4406-9ff0-b9752fa87cf9"
      },
      "source": [
        "# result:\n",
        "fpr,tpr= rocCurve(y,scores)"
      ],
      "execution_count": null,
      "outputs": [
        {
          "output_type": "display_data",
          "data": {
            "application/vnd.jupyter.widget-view+json": {
              "model_id": "17a1e950c75d48a0afeeeb6a231ff8e8",
              "version_minor": 0,
              "version_major": 2
            },
            "text/plain": [
              "HBox(children=(FloatProgress(value=0.0, max=10100.0), HTML(value='')))"
            ]
          },
          "metadata": {
            "tags": []
          }
        },
        {
          "output_type": "stream",
          "text": [
            "\n"
          ],
          "name": "stdout"
        }
      ]
    },
    {
      "cell_type": "code",
      "metadata": {
        "colab": {
          "base_uri": "https://localhost:8080/"
        },
        "id": "Pl0ywfuOEyvc",
        "outputId": "9baaaa8a-007a-403b-f854-9c8f489d29dd"
      },
      "source": [
        "# area under curve :\n",
        "print(\"Area under curve = \",np.trapz(np.array(tpr),np.array(fpr)))"
      ],
      "execution_count": null,
      "outputs": [
        {
          "output_type": "stream",
          "text": [
            "Area under curve =  0.9377570000000001\n"
          ],
          "name": "stdout"
        }
      ]
    },
    {
      "cell_type": "markdown",
      "metadata": {
        "id": "1M8IUC5mSt_1"
      },
      "source": [
        "### Observations:\n",
        "1. tpr is increasing very fastly with increasing fpr, which give high `area under curve`\n"
      ]
    },
    {
      "cell_type": "markdown",
      "metadata": {
        "id": "fUrK5L6itC1B"
      },
      "source": [
        "### 4.Accuracy score"
      ]
    },
    {
      "cell_type": "code",
      "metadata": {
        "colab": {
          "base_uri": "https://localhost:8080/"
        },
        "id": "S6uFygMytCN9",
        "outputId": "b59dd191-380b-4f30-a1e1-12c31f70630e"
      },
      "source": [
        "# accuracy score\n",
        "print(\"Accuracy score = \",accuracyScore(y,predicted))"
      ],
      "execution_count": null,
      "outputs": [
        {
          "output_type": "stream",
          "text": [
            "Accuracy score =  0.9718811881188119\n"
          ],
          "name": "stdout"
        }
      ]
    },
    {
      "cell_type": "markdown",
      "metadata": {
        "id": "sV1gDa5OUvJp"
      },
      "source": [
        "### Observations:\n",
        "\n",
        "1. accuracy score for both task-A and task-B are high, because they are extremly positive are negative ( not equally distributed.)"
      ]
    },
    {
      "cell_type": "markdown",
      "metadata": {
        "id": "iwccrf_nEaue"
      },
      "source": [
        "# Task -C"
      ]
    },
    {
      "cell_type": "markdown",
      "metadata": {
        "id": "GiPGonTzQvoB"
      },
      "source": [
        "<font color='red'><b>C.</b></font> Compute the best threshold (similarly to ROC curve computation) of probability which gives lowest values of metric <b>A</b> for the given data <strong>5_c.csv</strong>\n",
        "<br>\n",
        "\n",
        "you will be predicting label of a data points like this: $y^{pred}= \\text{[0 if y_score < threshold  else 1]}$\n",
        "\n",
        "$ A = 500 \\times \\text{number of false negative} + 100 \\times \\text{numebr of false positive}$\n",
        "\n",
        "<pre>\n",
        "   <b>Note 1:</b> in this data you can see number of negative points > number of positive points\n",
        "   <b>Note 2:</b> use pandas or numpy to read the data from <b>5_c.csv</b>\n",
        "</pre>"
      ]
    },
    {
      "cell_type": "code",
      "metadata": {
        "id": "o2pAhsbLAXRA"
      },
      "source": [
        "# reading task-c data\n",
        "data3 = pd.read_csv('/gdrive/My Drive/7_Compute Performance metrics without Sklearn/5_c.csv')"
      ],
      "execution_count": null,
      "outputs": []
    },
    {
      "cell_type": "code",
      "metadata": {
        "colab": {
          "base_uri": "https://localhost:8080/",
          "height": 204
        },
        "id": "oXA6IojPuxqd",
        "outputId": "c372b042-e9a2-4d89-a48b-a01d0499400f"
      },
      "source": [
        "data3.head()"
      ],
      "execution_count": null,
      "outputs": [
        {
          "output_type": "execute_result",
          "data": {
            "text/html": [
              "<div>\n",
              "<style scoped>\n",
              "    .dataframe tbody tr th:only-of-type {\n",
              "        vertical-align: middle;\n",
              "    }\n",
              "\n",
              "    .dataframe tbody tr th {\n",
              "        vertical-align: top;\n",
              "    }\n",
              "\n",
              "    .dataframe thead th {\n",
              "        text-align: right;\n",
              "    }\n",
              "</style>\n",
              "<table border=\"1\" class=\"dataframe\">\n",
              "  <thead>\n",
              "    <tr style=\"text-align: right;\">\n",
              "      <th></th>\n",
              "      <th>y</th>\n",
              "      <th>prob</th>\n",
              "    </tr>\n",
              "  </thead>\n",
              "  <tbody>\n",
              "    <tr>\n",
              "      <th>0</th>\n",
              "      <td>0</td>\n",
              "      <td>0.458521</td>\n",
              "    </tr>\n",
              "    <tr>\n",
              "      <th>1</th>\n",
              "      <td>0</td>\n",
              "      <td>0.505037</td>\n",
              "    </tr>\n",
              "    <tr>\n",
              "      <th>2</th>\n",
              "      <td>0</td>\n",
              "      <td>0.418652</td>\n",
              "    </tr>\n",
              "    <tr>\n",
              "      <th>3</th>\n",
              "      <td>0</td>\n",
              "      <td>0.412057</td>\n",
              "    </tr>\n",
              "    <tr>\n",
              "      <th>4</th>\n",
              "      <td>0</td>\n",
              "      <td>0.375579</td>\n",
              "    </tr>\n",
              "  </tbody>\n",
              "</table>\n",
              "</div>"
            ],
            "text/plain": [
              "   y      prob\n",
              "0  0  0.458521\n",
              "1  0  0.505037\n",
              "2  0  0.418652\n",
              "3  0  0.412057\n",
              "4  0  0.375579"
            ]
          },
          "metadata": {
            "tags": []
          },
          "execution_count": 29
        }
      ]
    },
    {
      "cell_type": "code",
      "metadata": {
        "id": "gRwtfz_MAqGZ",
        "colab": {
          "base_uri": "https://localhost:8080/"
        },
        "outputId": "1e1f8a89-865d-41cb-8242-a6736b7e30a1"
      },
      "source": [
        "# value counts of class\n",
        "data3['y'].value_counts()"
      ],
      "execution_count": null,
      "outputs": [
        {
          "output_type": "execute_result",
          "data": {
            "text/plain": [
              "0    1805\n",
              "1    1047\n",
              "Name: y, dtype: int64"
            ]
          },
          "metadata": {
            "tags": []
          },
          "execution_count": 30
        }
      ]
    },
    {
      "cell_type": "code",
      "metadata": {
        "id": "bh5Aeh57Byz3"
      },
      "source": [
        "# inputs for roc_threshold\n",
        "y = np.array(data3['y'])\n",
        "scores = np.array(data3['prob'])"
      ],
      "execution_count": null,
      "outputs": []
    },
    {
      "cell_type": "code",
      "metadata": {
        "id": "pVgImA5kRakV"
      },
      "source": [
        "def roc_threshold(y,scores):\n",
        "\n",
        "  # lists to store tpr and fpr values for each threshold\n",
        "  tpr_array = []         \n",
        "  fpr_array = []      \n",
        "  \n",
        "  # getting unique probability scores in decreasing order.                 \n",
        "  probabilities = sorted(np.unique(scores),reverse=True)\n",
        "  # creating dataframe with y and corresponding scores\n",
        "  df = pd.DataFrame({'y':y,'proba':scores})\n",
        "  A = 10000000\n",
        "  best_threshold  = 0\n",
        "  # for each probability as threshold, calculating its tpr,fpr to finally get area under curve.\n",
        "  for each in tqdm(range(len(probabilities))):\n",
        "\n",
        "    threshold = probabilities[each]\n",
        "    df['predicted']=1\n",
        "    df.loc[(df['proba']<threshold),'predicted']=0\n",
        "\n",
        "    predicted = np.array(df['predicted'])\n",
        "\n",
        "    tn,fp,fn,tp=confusionMatrix(y,predicted)\n",
        "    # calculating tpr,fpr\n",
        "    tpr = (tp/(tp+fn))\n",
        "    fpr= (fp/(tn+fp))\n",
        "\n",
        "    min=500*(fn)+100*(fp)\n",
        "    if min < A:\n",
        "      A = min \n",
        "      best_threshold = threshold\n",
        "\n",
        "    tpr_array.append(tpr)\n",
        "    fpr_array.append(fpr)\n",
        "\n",
        "  return fpr_array,tpr_array,best_threshold\n"
      ],
      "execution_count": null,
      "outputs": []
    },
    {
      "cell_type": "code",
      "metadata": {
        "id": "VZcwjiEpEJdX",
        "colab": {
          "base_uri": "https://localhost:8080/",
          "height": 66,
          "referenced_widgets": [
            "65aa2a651d494293b1700d04dfd9d213",
            "52280e68da564f3a929a2fd1ce89871f",
            "84e0dded105e4ff692c8cd49b6e80878",
            "041c44e5996b454aacfd340c836a5fd4",
            "126016ad077e4afea6993c180936dc3c",
            "9979fe3db44943bf8e07bfcefe9b379d",
            "b8934f297e0b4780a65878dee7a14a68",
            "a2fa46c2e90c4088a045b77f8b2acba9"
          ]
        },
        "outputId": "bbf8a842-9857-4635-d7ba-eb4862f5b625"
      },
      "source": [
        "# result:\n",
        "fpr,tpr,thre = roc_threshold(y,scores) "
      ],
      "execution_count": null,
      "outputs": [
        {
          "output_type": "display_data",
          "data": {
            "application/vnd.jupyter.widget-view+json": {
              "model_id": "65aa2a651d494293b1700d04dfd9d213",
              "version_minor": 0,
              "version_major": 2
            },
            "text/plain": [
              "HBox(children=(FloatProgress(value=0.0, max=2791.0), HTML(value='')))"
            ]
          },
          "metadata": {
            "tags": []
          }
        },
        {
          "output_type": "stream",
          "text": [
            "\n"
          ],
          "name": "stdout"
        }
      ]
    },
    {
      "cell_type": "code",
      "metadata": {
        "id": "FGJhDKjEm7hu",
        "colab": {
          "base_uri": "https://localhost:8080/"
        },
        "outputId": "bdc6e8bb-e3f7-4fbb-b395-7c57826fbab9"
      },
      "source": [
        "print(\"Area under curve = \",np.trapz(np.array(tpr),np.array(fpr)))"
      ],
      "execution_count": null,
      "outputs": [
        {
          "output_type": "stream",
          "text": [
            "Area under curve =  0.8288141557331724\n"
          ],
          "name": "stdout"
        }
      ]
    },
    {
      "cell_type": "code",
      "metadata": {
        "id": "Zq8e43WzlF3P",
        "colab": {
          "base_uri": "https://localhost:8080/"
        },
        "outputId": "3734ccd9-4069-424c-8c69-aa04a08e0a17"
      },
      "source": [
        "print(\"best threshold = \",thre)"
      ],
      "execution_count": null,
      "outputs": [
        {
          "output_type": "stream",
          "text": [
            "best threshold =  0.2300390278970873\n"
          ],
          "name": "stdout"
        }
      ]
    },
    {
      "cell_type": "markdown",
      "metadata": {
        "id": "qfiE9proM6Eq"
      },
      "source": [
        "### verifying with obtained threshold:"
      ]
    },
    {
      "cell_type": "code",
      "metadata": {
        "colab": {
          "base_uri": "https://localhost:8080/"
        },
        "id": "BBUDK9nNJpQ7",
        "outputId": "9edb95bc-7e19-4f7a-c523-26ebc9a05671"
      },
      "source": [
        "# adding new column as \"predicted\" with default values\n",
        "data3['predicted']=1\n",
        "#  Replacing predicted column value by using proba column values based on given condition.\n",
        "# -- https://pythonexamples.org/pandas-dataframe-replace-values-in-column-based-on-condition/\n",
        "\n",
        "data3.loc[(data2['proba']<=0.2300390278970873),'predicted']=0\n",
        "# unique value counts after applying condition\n",
        "print(data2['predicted'].value_counts())"
      ],
      "execution_count": null,
      "outputs": [
        {
          "output_type": "stream",
          "text": [
            "0    9806\n",
            "1     294\n",
            "Name: predicted, dtype: int64\n"
          ],
          "name": "stdout"
        }
      ]
    },
    {
      "cell_type": "code",
      "metadata": {
        "colab": {
          "base_uri": "https://localhost:8080/"
        },
        "id": "CBn5oIF1JpGL",
        "outputId": "3b9ef2ea-33d6-424b-d0db-76bb8aacea43"
      },
      "source": [
        "y = data3['y']\n",
        "predicted = data3['predicted']\n",
        "tn,fp,fn,tp= confusionMatrix(y,predicted)\n",
        "print(\" True neg  = {} \\n False pos = {} \\n False neg = {} \\n True pos  = {} \".format(tn, fp, fn, tp ))"
      ],
      "execution_count": null,
      "outputs": [
        {
          "output_type": "stream",
          "text": [
            " True neg  = 565 \n",
            " False pos = 1240 \n",
            " False neg = 336 \n",
            " True pos  = 711 \n"
          ],
          "name": "stdout"
        }
      ]
    },
    {
      "cell_type": "markdown",
      "metadata": {
        "id": "TeS9-6WeNbxQ"
      },
      "source": [
        "### Observations:\n",
        " $ A = 500 \\times \\text{number of false negative} + 100 \\times \\text{numebr of false positive}$\n",
        "\n",
        "1. need to predict best threshold which minimizes metric 'A'\n",
        "2. here, we are giving high importance to `false negative` ,even a small value of false negative value gives large value after multiplying with '500'.\n",
        "3. so here we are trying to reduce false negative as much as possible values than false positive."
      ]
    },
    {
      "cell_type": "markdown",
      "metadata": {
        "id": "ruYlJPxrF6QF"
      },
      "source": [
        "# Task-D"
      ]
    },
    {
      "cell_type": "markdown",
      "metadata": {
        "id": "sD4CcgjXQvoL"
      },
      "source": [
        "<pre>\n",
        "<font color='red'><b>D.</b></font> Compute performance metrics(for regression) for the given data <strong>5_d.csv</strong>\n",
        "    <b>Note 2:</b> use pandas or numpy to read the data from <b>5_d.csv</b>\n",
        "    <b>Note 1:</b> <b>5_d.csv</b> will having two columns Y and predicted_Y both are real valued features\n",
        "<ol>\n",
        "<li> Compute Mean Square Error </li>\n",
        "<li> Compute MAPE: https://www.youtube.com/watch?v=ly6ztgIkUxk</li>\n",
        "<li> Compute R^2 error: https://en.wikipedia.org/wiki/Coefficient_of_determination#Definitions </li>\n",
        "</ol>\n",
        "</pre>"
      ]
    },
    {
      "cell_type": "code",
      "metadata": {
        "id": "3bNT-NvvXYso"
      },
      "source": [
        "# reading task-d data\n",
        "data4 = pd.read_csv('/gdrive/My Drive/7_Compute Performance metrics without Sklearn/5_d.csv')"
      ],
      "execution_count": null,
      "outputs": []
    },
    {
      "cell_type": "code",
      "metadata": {
        "id": "u5gSLp6pXZaa",
        "colab": {
          "base_uri": "https://localhost:8080/",
          "height": 204
        },
        "outputId": "e0c02559-478e-4f67-8e4c-71c5dfd43858"
      },
      "source": [
        "data4.head()"
      ],
      "execution_count": null,
      "outputs": [
        {
          "output_type": "execute_result",
          "data": {
            "text/html": [
              "<div>\n",
              "<style scoped>\n",
              "    .dataframe tbody tr th:only-of-type {\n",
              "        vertical-align: middle;\n",
              "    }\n",
              "\n",
              "    .dataframe tbody tr th {\n",
              "        vertical-align: top;\n",
              "    }\n",
              "\n",
              "    .dataframe thead th {\n",
              "        text-align: right;\n",
              "    }\n",
              "</style>\n",
              "<table border=\"1\" class=\"dataframe\">\n",
              "  <thead>\n",
              "    <tr style=\"text-align: right;\">\n",
              "      <th></th>\n",
              "      <th>y</th>\n",
              "      <th>pred</th>\n",
              "    </tr>\n",
              "  </thead>\n",
              "  <tbody>\n",
              "    <tr>\n",
              "      <th>0</th>\n",
              "      <td>101.0</td>\n",
              "      <td>100.0</td>\n",
              "    </tr>\n",
              "    <tr>\n",
              "      <th>1</th>\n",
              "      <td>120.0</td>\n",
              "      <td>100.0</td>\n",
              "    </tr>\n",
              "    <tr>\n",
              "      <th>2</th>\n",
              "      <td>131.0</td>\n",
              "      <td>113.0</td>\n",
              "    </tr>\n",
              "    <tr>\n",
              "      <th>3</th>\n",
              "      <td>164.0</td>\n",
              "      <td>125.0</td>\n",
              "    </tr>\n",
              "    <tr>\n",
              "      <th>4</th>\n",
              "      <td>154.0</td>\n",
              "      <td>152.0</td>\n",
              "    </tr>\n",
              "  </tbody>\n",
              "</table>\n",
              "</div>"
            ],
            "text/plain": [
              "       y   pred\n",
              "0  101.0  100.0\n",
              "1  120.0  100.0\n",
              "2  131.0  113.0\n",
              "3  164.0  125.0\n",
              "4  154.0  152.0"
            ]
          },
          "metadata": {
            "tags": []
          },
          "execution_count": 39
        }
      ]
    },
    {
      "cell_type": "code",
      "metadata": {
        "id": "s_d1hJcAqR3y"
      },
      "source": [
        "predicted = data4['pred']\n",
        "actual    = data4['y']"
      ],
      "execution_count": null,
      "outputs": []
    },
    {
      "cell_type": "markdown",
      "metadata": {
        "id": "CqLdxZyRHwhz"
      },
      "source": [
        "### 1.meanSquaredError"
      ]
    },
    {
      "cell_type": "code",
      "metadata": {
        "id": "NCuCOpTPqJc4"
      },
      "source": [
        "# definition of meanSquaredError\n",
        "def meanSquaredError(actual,predicted):\n",
        "  squareError = 0\n",
        "  n = len(actual)\n",
        "  for i in range(n):\n",
        "    squareError += (actual[i]-predicted[i])**2\n",
        "  return squareError/n\n"
      ],
      "execution_count": null,
      "outputs": []
    },
    {
      "cell_type": "code",
      "metadata": {
        "id": "LfA93dsmXYN3",
        "colab": {
          "base_uri": "https://localhost:8080/"
        },
        "outputId": "4798622c-f38e-44c0-a602-8f0b8c9db09e"
      },
      "source": [
        "print(\"Mean squared Error: \",meanSquaredError(actual,predicted))"
      ],
      "execution_count": null,
      "outputs": [
        {
          "output_type": "stream",
          "text": [
            "Mean squared Error:  177.16569974554707\n"
          ],
          "name": "stdout"
        }
      ]
    },
    {
      "cell_type": "markdown",
      "metadata": {
        "id": "u9dHYHfbH0zi"
      },
      "source": [
        "### 2.meanAbsolutePercentageError"
      ]
    },
    {
      "cell_type": "code",
      "metadata": {
        "id": "y-FChG9bdQCD"
      },
      "source": [
        "# definition of meanAbsolutePercentageError:\n",
        "'''\n",
        "Measure of prediction accuracy:\n",
        "actual formulae: 1/n(sumOfAll(n-values)((predicted-actual)/actual)\n",
        "problem with meanAbsolutePercentageError:\n",
        "1. if actual == 0 ; the term is not defined.\n",
        "\n",
        "work Around:\n",
        "so change actual value to avg-of all actual values:\n",
        "\n",
        "modified formulae :\n",
        "result = sum of all the absolute error value/ sum of all actual values\n",
        "'''\n",
        "\n",
        "def meanAbsolutePercentaError(predicted,actual):\n",
        "  error=0\n",
        "  errorSum = 0\n",
        "  actualSum = 0\n",
        "  for i in range(len(predicted)):\n",
        "    errorSum += abs(predicted[i]-actual[i])\n",
        "    actualSum += actual[i]\n",
        "  return (errorSum/actualSum)\n",
        "\n"
      ],
      "execution_count": null,
      "outputs": []
    },
    {
      "cell_type": "code",
      "metadata": {
        "id": "DQvuufNveTq0",
        "colab": {
          "base_uri": "https://localhost:8080/"
        },
        "outputId": "7b00786f-8a5d-413a-c1cf-cb0b4aad73a9"
      },
      "source": [
        "print(\"Mean Absolute Percentage error: \",meanAbsolutePercentaError(predicted,actual))"
      ],
      "execution_count": null,
      "outputs": [
        {
          "output_type": "stream",
          "text": [
            "Mean Absolute Percentage error:  0.1291202994009687\n"
          ],
          "name": "stdout"
        }
      ]
    },
    {
      "cell_type": "markdown",
      "metadata": {
        "id": "566UXFvjH5TR"
      },
      "source": [
        "### 3.R-Squared:"
      ]
    },
    {
      "cell_type": "code",
      "metadata": {
        "id": "leMF3_hleYBH"
      },
      "source": [
        "# R - squared : \n",
        "def coefficientOfDetermination(predicted,actual):\n",
        "  if (len(actual) == len(predicted)):\n",
        "    residual = 0\n",
        "    total    = 0\n",
        "    rSquare  = 0\n",
        "    N = len(actual)\n",
        "    mean = np.sum(actual)/N\n",
        "    for i in range(N):\n",
        "      residual += (actual[i]-predicted[i])**2\n",
        "      total    += (actual[i]-mean)**2\n",
        "    rSquare = 1 -(residual/total)\n",
        "    return rSquare\n",
        "  else:\n",
        "    return \"give proper inputs\"\n"
      ],
      "execution_count": null,
      "outputs": []
    },
    {
      "cell_type": "code",
      "metadata": {
        "id": "bQa_BU74l8tt",
        "colab": {
          "base_uri": "https://localhost:8080/"
        },
        "outputId": "f2023796-255b-4667-d0f7-76f0392b5a38"
      },
      "source": [
        "print(\"R - squared \",coefficientOfDetermination(predicted,actual))"
      ],
      "execution_count": null,
      "outputs": [
        {
          "output_type": "stream",
          "text": [
            "R - squared  0.9563582786990964\n"
          ],
          "name": "stdout"
        }
      ]
    },
    {
      "cell_type": "code",
      "metadata": {
        "id": "Zmt-pmDLIKby"
      },
      "source": [
        ""
      ],
      "execution_count": null,
      "outputs": []
    }
  ]
}
